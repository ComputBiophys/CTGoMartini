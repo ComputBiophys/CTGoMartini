{
 "cells": [
  {
   "cell_type": "code",
   "execution_count": 4,
   "metadata": {},
   "outputs": [],
   "source": [
    "import MDAnalysis.transformations as trans\n",
    "from MDAnalysis.analysis import align\n",
    "import MDAnalysis as mda\n",
    "import numpy as np\n",
    "import os"
   ]
  },
  {
   "cell_type": "code",
   "execution_count": 5,
   "metadata": {},
   "outputs": [
    {
     "name": "stderr",
     "output_type": "stream",
     "text": [
      "/home/ys/anaconda3/envs/ys/lib/python3.8/site-packages/MDAnalysis/topology/PDBParser.py:328: UserWarning: Element information is missing, elements attribute will not be populated. If needed these can be guessed using MDAnalysis.topology.guessers.\n",
      "  warnings.warn(\"Element information is missing, elements attribute \"\n",
      "/home/ys/anaconda3/envs/ys/lib/python3.8/site-packages/MDAnalysis/coordinates/base.py:721: UserWarning: Reader has no dt information, set to 1.0 ps\n",
      "  return self.ts.dt\n",
      "/home/ys/anaconda3/envs/ys/lib/python3.8/site-packages/MDAnalysis/coordinates/XTC.py:105: UserWarning: Reader has no dt information, set to 1.0 ps\n",
      "  time = ts.time\n"
     ]
    }
   ],
   "source": [
    "strfiles = [f'../GlnBP_No{i}.gro' for i in range(10)]\n",
    "u = mda.Universe(\"md_start.pdb\", strfiles)\n",
    "u.atoms.write('trj.xtc', frames=u.trajectory[::1])"
   ]
  },
  {
   "cell_type": "code",
   "execution_count": 6,
   "metadata": {},
   "outputs": [],
   "source": [
    "u = mda.Universe(\"md_start.pdb\", \"trj.xtc\")\n",
    "ref = mda.Universe('md_start.pdb')\n",
    "\n",
    "protein = u.select_atoms('name CA BB')\n",
    "not_protein = u.select_atoms('resname W NA CL')\n",
    "\n",
    "transforms = [#trans.unwrap(u.atoms),\n",
    "              trans.center_in_box(protein),\n",
    "              trans.wrap(not_protein,compound='residues'),\n",
    "              #trans.unwrap(not_protein),\n",
    "              trans.fit_rot_trans(protein, ref.select_atoms(\"name CA BB\"))\n",
    "             ]\n",
    "\n",
    "u.trajectory.add_transformations(*transforms)\n",
    "\n",
    "u.atoms.write('trj_align.xtc', frames=u.trajectory[::1])"
   ]
  }
 ],
 "metadata": {
  "kernelspec": {
   "display_name": "ys",
   "language": "python",
   "name": "python3"
  },
  "language_info": {
   "codemirror_mode": {
    "name": "ipython",
    "version": 3
   },
   "file_extension": ".py",
   "mimetype": "text/x-python",
   "name": "python",
   "nbconvert_exporter": "python",
   "pygments_lexer": "ipython3",
   "version": "3.8.16"
  }
 },
 "nbformat": 4,
 "nbformat_minor": 2
}
