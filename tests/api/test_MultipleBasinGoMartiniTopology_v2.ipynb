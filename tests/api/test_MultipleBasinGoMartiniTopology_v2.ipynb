{
 "cells": [
  {
   "cell_type": "code",
   "execution_count": 1,
   "metadata": {},
   "outputs": [
    {
     "name": "stderr",
     "output_type": "stream",
     "text": [
      "Warning: importing 'simtk.openmm' is deprecated.  Import 'openmm' instead.\n",
      "/home/ys/anaconda3/envs/ctgomartini_test/lib/python3.8/site-packages/tqdm/auto.py:21: TqdmWarning: IProgress not found. Please update jupyter and ipywidgets. See https://ipywidgets.readthedocs.io/en/stable/user_install.html\n",
      "  from .autonotebook import tqdm as notebook_tqdm\n"
     ]
    }
   ],
   "source": [
    "from ctgomartini.api import MartiniTopFile\n",
    "from ctgomartini.func import WriteItp\n",
    "from function import *\n",
    "\n",
    "def MBP_exp_energy_combine(energy1, energy2, beta, C1, C2):\n",
    "    part1=np.exp(-beta*(energy1+C1))\n",
    "    part2=np.exp(-beta*(energy2+C2))\n",
    "\n",
    "    part=part1+part2\n",
    "    energy=-np.log(part)/beta\n",
    "    return energy\n",
    "\n",
    "def MBP_exp_forces_combine(forces1, forces2, energy1, energy2, beta, C1, C2):\n",
    "    part1=np.exp(-beta*(energy1+C1))\n",
    "    part2=np.exp(-beta*(energy2+C2))\n",
    "\n",
    "    part=part1+part2\n",
    "    forces=part1/part*forces1+part2/part*forces2\n",
    "    return forces\n",
    "\n",
    "def MBP_ham_energy_combine(energy1, energy2, delta, C1, C2):\n",
    "    dV=C2-C1\n",
    "    part1=(energy1+energy2+dV)/2\n",
    "    part2=(energy1-energy2-dV)/2\n",
    "\n",
    "    energy=part1-np.sqrt(part2**2+delta**2)\n",
    "    return energy\n",
    "\n",
    "def MBP_ham_forces_combine(forces1, forces2, energy1, energy2, delta, C1, C2):\n",
    "    dV=C2-C1\n",
    "    alpha=(energy1-energy2-dV)/2\n",
    "    C=1/2*(1-alpha/np.sqrt(alpha**2+delta**2))\n",
    "\n",
    "    forces=C*forces1+(1-C)*forces2\n",
    "    return forces\n",
    "\n",
    "    \n",
    "def GetMBPParameter(working_dir, topfile='system.top'):\n",
    "    \"\"\"\n",
    "    get MBP Parameters\n",
    "    \"\"\"\n",
    "    os.chdir(working_dir)\n",
    "    top = MartiniTopFile(topfile)\n",
    "    MBP_paramters = []\n",
    "    for molecule_name, molecule_type in top.moleculeTypes.items():\n",
    "        if 'multiple_basin' in molecule_type._topology:\n",
    "            MBP_paramters.append(molecule_type._topology['multiple_basin'][0])\n",
    "    return MBP_paramters\n",
    "\n",
    "\n",
    "def Compare_energy(energy1, energy2, isPrint=True):\n",
    "    energy1 = float(energy1)\n",
    "    energy2 = float(energy2)\n",
    "\n",
    "    relative_energy_error = abs(energy1 - energy2) * \\\n",
    "        2 / (abs(energy1)+abs(energy2))\n",
    "    abs_energy_error = abs(energy1 - energy2)\n",
    "\n",
    "    if isPrint:\n",
    "        print('Energy Compare')\n",
    "        print(f'Absolute error: {abs_energy_error:.2e}')\n",
    "        print(f'Relative error: {relative_energy_error:.2e}')\n",
    "\n",
    "    if relative_energy_error <= 1e-5 or abs_energy_error <= 1e-3:\n",
    "        if isPrint:\n",
    "            print(\"Energies match!\")\n",
    "        result = True\n",
    "    else:\n",
    "        if isPrint:\n",
    "            print(\"Error: Energies do not match!\")\n",
    "        result = False\n",
    "    \n",
    "    return result, abs_energy_error, relative_energy_error\n",
    "    \n",
    "def Compare_forces(forces1, forces2, isPrint=True):\n",
    "    average = 0.5*np.linalg.norm(forces1, axis=1) + 0.5*np.linalg.norm(forces2, axis=1)\n",
    "\n",
    "    relative_force_error = np.linalg.norm(forces1 - forces2, axis=1) / average\n",
    "    relative_force_error = np.nan_to_num(relative_force_error, nan=0)\n",
    "    max_relative_force_error, max_relative_force_error_index = relative_force_error.max(\n",
    "    ), relative_force_error.argmax()\n",
    "\n",
    "    abs_force_error = np.linalg.norm(forces1 - forces2, axis=1)\n",
    "    max_abs_force_error, max_abs_force_error_index = abs_force_error.max(\n",
    "    ), abs_force_error.argmax()\n",
    "\n",
    "    atol = 1e-5\n",
    "    rtol = 1e-4\n",
    "    # allclose = abs_force_error-(atol+rtol*average)\n",
    "    allclose = abs_force_error-(atol+rtol*np.linalg.norm(forces2, axis=1)) # use gmx forces as the standard\n",
    "    mask = np.linalg.norm(forces2, axis=1) != 0 # exclude the force == 0\n",
    "    max_allclose = allclose[mask].max()\n",
    "    max_allclose_index = np.where(allclose == max_allclose)[0][0]\n",
    "    max_abs_force_error = abs_force_error[max_allclose_index]\n",
    "    max_relative_force_error = relative_force_error[max_allclose_index]\n",
    "    if isPrint:\n",
    "        print('###Forces Compare###')\n",
    "        print(f'Max absolute error: {max_abs_force_error:.2e}')\n",
    "        print(f'Max relative error: {max_relative_force_error:.2e}')\n",
    "        print(f'      Max allclose: {max_allclose:.2e}')\n",
    "\n",
    "    if max_allclose <= 0:\n",
    "        if isPrint:\n",
    "            print(\"Forces match!\")\n",
    "        result = True\n",
    "    else:\n",
    "        if isPrint:\n",
    "            print(\"Error: Forces do not match!\")\n",
    "        result = False \n",
    "\n",
    "    return result, max_abs_force_error, max_relative_force_error, max_allclose"
   ]
  },
  {
   "cell_type": "code",
   "execution_count": 2,
   "metadata": {},
   "outputs": [],
   "source": [
    "def CalculateOMMEnergyForces(working_dir, strfile='ions.gro', epsilon_r=15):\n",
    "    os.chdir(working_dir)\n",
    "    strfile = strfile\n",
    "    topfile = \"system.top\"\n",
    "    prefix = strfile.split('/')[-1].split('.')[0]\n",
    "\n",
    "    simulation = OMM_setSimulation(strfile, topfile, epsilon_r=epsilon_r, temperature=310.15, double_precision=True)\n",
    "    OMM_calStrfile(strfile, simulation, prefix=prefix, set_vsite=True)\n",
    "\n",
    "    omm_energy=Load_energy(prefix=prefix, clean=True)\n",
    "    omm_forces=Load_forces(prefix=prefix, clean=True)    \n",
    "    return omm_energy, omm_forces\n",
    "\n",
    "def CalculateGMXEnergyForces(working_dir, strfile='ions.gro', epsilon_r=15):\n",
    "    os.chdir(working_dir)\n",
    "    strfile = strfile\n",
    "    topfile = \"system.top\"\n",
    "    prefix = strfile.split('/')[-1].split('.')[0]\n",
    "    print(prefix)\n",
    "\n",
    "    GMX_set(strfile=strfile,trjfile=strfile,topfile=topfile, indexfile=None, prefix=prefix, CreateMDP=True, double_precision=True)\n",
    "    GMX_run(prefix=prefix)\n",
    "\n",
    "    gmx_energy=Load_energy(prefix=prefix, clean=False)\n",
    "    gmx_forces=Load_forces(prefix=prefix, clean=False)    \n",
    "    return gmx_energy, gmx_forces"
   ]
  },
  {
   "cell_type": "code",
   "execution_count": 3,
   "metadata": {},
   "outputs": [],
   "source": [
    "def SetMBPParameter(working_dir, topfile='system.top', MBP_parameters = [['True', 'exp', '2', '1/300', '-300', '0']]):\n",
    "    \"\"\"\n",
    "    get MBP Parameters\n",
    "    \"\"\"\n",
    "    os.chdir(working_dir)\n",
    "    top = MartiniTopFile(topfile)\n",
    "    MBP_paramters = []\n",
    "    for molecule_name, molecule_type in top.moleculeTypes.items():\n",
    "        if 'multiple_basin' in molecule_type._topology:\n",
    "            molecule_type._topology['multiple_basin'] = MBP_parameters\n",
    "            WriteItp(molecule_type)"
   ]
  },
  {
   "cell_type": "code",
   "execution_count": 4,
   "metadata": {},
   "outputs": [],
   "source": [
    "# # GMX Energy Initialization\n",
    "# path = os.getcwd()\n",
    "# base_dir = os.path.join(path, \"../data/MultipleBasinGoMartini_v2/GlnBP/\")\n",
    "\n",
    "# # Open\n",
    "# working_dir = os.path.join(base_dir, 'Open')\n",
    "# epsilon_r = 15\n",
    "# for i in range(10):\n",
    "#     strfile = os.path.join(base_dir,f'Strfiles/GlnBP_No{i}.gro')\n",
    "#     energy_stateA, forces_stateA = CalculateGMXEnergyForces(working_dir, strfile, epsilon_r=epsilon_r)\n",
    "\n",
    "# # Closed\n",
    "# working_dir = os.path.join(base_dir, 'Closed')\n",
    "# epsilon_r = 15\n",
    "# for i in range(10):\n",
    "#     strfile = os.path.join(base_dir,f'Strfiles/GlnBP_No{i}.gro')\n",
    "#     energy_stateA, forces_stateA = CalculateGMXEnergyForces(working_dir, strfile, epsilon_r=epsilon_r)"
   ]
  },
  {
   "cell_type": "code",
   "execution_count": 5,
   "metadata": {},
   "outputs": [],
   "source": [
    "def CompareResults_EXP(base_dir, strfile='ions.gro', epsilon_r=15, \n",
    "                   MBP_parameters = [['True', 'exp', '2', '1/300', '-300', '0']]):\n",
    "    \n",
    "    working_dir = os.path.join(base_dir, 'Open')\n",
    "    os.chdir(working_dir)\n",
    "    # energy_stateA, forces_stateA = CalculateGMXEnergyForces(working_dir, strfile, epsilon_r=epsilon_r)\n",
    "    prefix = strfile.split('/')[-1].split('.')[0]\n",
    "    energy_stateA=Load_energy(prefix=prefix, clean=False)\n",
    "    forces_stateA=Load_forces(prefix=prefix, clean=False)    \n",
    "    os.chdir(base_dir)\n",
    "\n",
    "    working_dir = os.path.join(base_dir, 'Closed')\n",
    "    os.chdir(working_dir)\n",
    "    # energy_stateB, forces_stateB = CalculateGMXEnergyForces(working_dir, strfile, epsilon_r=epsilon_r)\n",
    "    prefix = strfile.split('/')[-1].split('.')[0]\n",
    "    energy_stateB=Load_energy(prefix=prefix, clean=False)\n",
    "    forces_stateB=Load_forces(prefix=prefix, clean=False)    \n",
    "    os.chdir(base_dir)\n",
    "    \n",
    "    working_dir = os.path.join(base_dir, 'EXP')\n",
    "    SetMBPParameter(working_dir, topfile='system.top', MBP_parameters = MBP_parameters)\n",
    "    energy_exp, forces_exp = CalculateOMMEnergyForces(working_dir, strfile, epsilon_r=epsilon_r)\n",
    "    exp_param = GetMBPParameter(working_dir, topfile='system.top')[0]\n",
    "\n",
    "\n",
    "    # Energy and forces comparison for Exponential mixing scheme\n",
    "    print(\"Exponential mixing scheme for multiple baisn popential\")\n",
    "    print(\"Parameters: \",exp_param)\n",
    "    energy_exp_cal = MBP_exp_energy_combine(energy_stateA[:,1], energy_stateB[:,1], beta=eval(exp_param[3]), C1=eval(exp_param[4]), C2=eval(exp_param[5]))\n",
    "    forces_exp_cal = MBP_exp_forces_combine(forces_stateA[:,1:], forces_stateB[:,1:], energy_stateA[:,1], energy_stateB[:,1], beta=eval(exp_param[3]), C1=eval(exp_param[4]), C2=eval(exp_param[5]))\n",
    "\n",
    "    result_energy, abs_energy_error, relative_energy_error =Compare_energy(energy_exp[:,1:], energy_exp_cal, isPrint=True)\n",
    "    result_forces, max_abs_force_error, max_relative_force_error, max_allclose =Compare_forces(forces_exp[:,1:], forces_exp_cal, isPrint=True)\n",
    "    \n",
    "    if not (result_energy and result_forces):\n",
    "        raise AssertionError(\"Energies or forces do not match for Exponential mixing scheme.\")\n",
    "\n",
    "    return [abs_energy_error, relative_energy_error, max_abs_force_error, max_relative_force_error, max_allclose]\n"
   ]
  },
  {
   "cell_type": "code",
   "execution_count": 6,
   "metadata": {},
   "outputs": [],
   "source": [
    "def CompareResults_HAM(base_dir, strfile='ions.gro', epsilon_r=15, \n",
    "                   MBP_parameters = [['True', 'ham', '2', '300', '-300', '0']]):\n",
    "    working_dir = os.path.join(base_dir, 'Open')\n",
    "    os.chdir(working_dir)\n",
    "    # energy_stateA, forces_stateA = CalculateGMXEnergyForces(working_dir, strfile, epsilon_r=epsilon_r)\n",
    "    prefix = strfile.split('/')[-1].split('.')[0]\n",
    "    energy_stateA=Load_energy(prefix=prefix, clean=False)\n",
    "    forces_stateA=Load_forces(prefix=prefix, clean=False)    \n",
    "    os.chdir(base_dir)\n",
    "\n",
    "    working_dir = os.path.join(base_dir, 'Closed')\n",
    "    os.chdir(working_dir)\n",
    "    # energy_stateB, forces_stateB = CalculateGMXEnergyForces(working_dir, strfile, epsilon_r=epsilon_r)\n",
    "    prefix = strfile.split('/')[-1].split('.')[0]\n",
    "    energy_stateB=Load_energy(prefix=prefix, clean=False)\n",
    "    forces_stateB=Load_forces(prefix=prefix, clean=False)    \n",
    "    os.chdir(base_dir)\n",
    "\n",
    "\n",
    "    working_dir = os.path.join(base_dir, 'HAM')\n",
    "    SetMBPParameter(working_dir, topfile='system.top', MBP_parameters = MBP_parameters)\n",
    "    energy_ham, forces_ham = CalculateOMMEnergyForces(working_dir, strfile, epsilon_r=epsilon_r)\n",
    "    ham_param = GetMBPParameter(working_dir, topfile='system.top')[0]\n",
    "\n",
    "\n",
    "    # Energy and forces comparison for Hamiltonian mixing scheme\n",
    "    print(\"Hamiltonian mixing scheme for multiple baisn popential\")\n",
    "    print(\"Parameters: \",ham_param)\n",
    "    energy_ham_cal = MBP_ham_energy_combine(energy_stateA[:,1], energy_stateB[:,1], delta=eval(ham_param[3]), C1=eval(ham_param[4]), C2=eval(ham_param[5]))\n",
    "    forces_ham_cal = MBP_ham_forces_combine(forces_stateA[:,1:], forces_stateB[:,1:], energy_stateA[:,1], energy_stateB[:,1], delta=eval(ham_param[3]), C1=eval(ham_param[4]), C2=eval(ham_param[5]))\n",
    "\n",
    "    result_energy, abs_energy_error, relative_energy_error = Compare_energy(energy_ham[:,1:], energy_ham_cal, isPrint=True)\n",
    "    result_forces, max_abs_force_error, max_relative_force_error, max_allclose =Compare_forces(forces_ham[:,1:], forces_ham_cal, isPrint=True)\n",
    "    if not (result_energy and result_forces):\n",
    "        raise AssertionError(\"Energies or forces do not match for Hamiltonian mixing scheme.\")\n",
    "    \n",
    "    return [abs_energy_error, relative_energy_error, max_abs_force_error, max_relative_force_error, max_allclose]"
   ]
  },
  {
   "cell_type": "code",
   "execution_count": 7,
   "metadata": {},
   "outputs": [],
   "source": [
    "from multiprocessing import Pool\n",
    "from functools import partial\n",
    "\n",
    "def Compare(i, base_dir, Mixing_function, mixing_parameters):\n",
    "    strfile = os.path.join(base_dir,f'Strfiles/GlnBP_No{i}.gro')\n",
    "    print(strfile)\n",
    "    Mixing_function(base_dir, strfile=strfile, epsilon_r = 15, MBP_parameters=mixing_parameters)  \n",
    "    \n",
    "\n",
    "class TestMultipleBasinGoMartiniTopology:\n",
    "    \"\"\"\n",
    "    Test the multiple-basin GoMartini topology\n",
    "    \"\"\"\n",
    "    path = os.getcwd()\n",
    "\n",
    "    def test_GlnBP_EXP(self):\n",
    "        base_dir = os.path.join(self.path, \"../data/MultipleBasinGoMartini_v2/GlnBP/\")\n",
    "        EXP_parameters_list = [[['True', 'exp', '2', '1/300', '-300', '0']],\n",
    "                                [['True', 'exp', '2', '1/500', '-300', '0']],\n",
    "                                [['True', 'exp', '2', '1/300', '-600', '0']],\n",
    "                                ]\n",
    "\n",
    "        for j, EXP_parameters in enumerate(EXP_parameters_list):\n",
    "            print(os.getcwd())\n",
    "            print(EXP_parameters)\n",
    "            Compare_per_frame = partial(Compare, base_dir=base_dir, Mixing_function=CompareResults_EXP, mixing_parameters=EXP_parameters)\n",
    "            with Pool(10) as pool:\n",
    "                pool.map(Compare_per_frame, range(10))\n",
    "    \n",
    "    def test_GlnBP_HAM(self):\n",
    "        base_dir = os.path.join(self.path, \"../data/MultipleBasinGoMartini_v2/GlnBP/\")\n",
    "        HAM_parameters_list = [[['True', 'ham', '2', '100', '-200', '0']],\n",
    "                                [['True', 'ham', '2', '600', '-200', '0']],\n",
    "                                [['True', 'ham', '2', '100', '-900', '0']],\n",
    "                                ]\n",
    "\n",
    "        for j, HAM_parameters in enumerate(HAM_parameters_list):\n",
    "            print(os.getcwd())\n",
    "            print(HAM_parameters)\n",
    "            Compare_per_frame = partial(Compare, base_dir=base_dir, Mixing_function=CompareResults_HAM, mixing_parameters=HAM_parameters)\n",
    "            with Pool(10) as pool:\n",
    "                pool.map(Compare_per_frame, range(10))\n"
   ]
  },
  {
   "cell_type": "code",
   "execution_count": 8,
   "metadata": {},
   "outputs": [],
   "source": [
    "test = TestMultipleBasinGoMartiniTopology()"
   ]
  },
  {
   "cell_type": "code",
   "execution_count": 9,
   "metadata": {},
   "outputs": [
    {
     "name": "stdout",
     "output_type": "stream",
     "text": [
      "/home/ys/CommonUse/Martini/test/CTGoMartini/tests/api\n",
      "[['True', 'exp', '2', '1/300', '-300', '0']]\n",
      "/home/ys/CommonUse/Martini/test/CTGoMartini/tests/api/../data/MultipleBasinGoMartini_v2/GlnBP/Strfiles/GlnBP_No6.gro/home/ys/CommonUse/Martini/test/CTGoMartini/tests/api/../data/MultipleBasinGoMartini_v2/GlnBP/Strfiles/GlnBP_No0.gro/home/ys/CommonUse/Martini/test/CTGoMartini/tests/api/../data/MultipleBasinGoMartini_v2/GlnBP/Strfiles/GlnBP_No1.gro/home/ys/CommonUse/Martini/test/CTGoMartini/tests/api/../data/MultipleBasinGoMartini_v2/GlnBP/Strfiles/GlnBP_No7.gro/home/ys/CommonUse/Martini/test/CTGoMartini/tests/api/../data/MultipleBasinGoMartini_v2/GlnBP/Strfiles/GlnBP_No3.gro/home/ys/CommonUse/Martini/test/CTGoMartini/tests/api/../data/MultipleBasinGoMartini_v2/GlnBP/Strfiles/GlnBP_No2.gro\n",
      "/home/ys/CommonUse/Martini/test/CTGoMartini/tests/api/../data/MultipleBasinGoMartini_v2/GlnBP/Strfiles/GlnBP_No4.gro/home/ys/CommonUse/Martini/test/CTGoMartini/tests/api/../data/MultipleBasinGoMartini_v2/GlnBP/Strfiles/GlnBP_No8.gro/home/ys/CommonUse/Martini/test/CTGoMartini/tests/api/../data/MultipleBasinGoMartini_v2/GlnBP/Strfiles/GlnBP_No5.gro\n",
      "/home/ys/CommonUse/Martini/test/CTGoMartini/tests/api/../data/MultipleBasinGoMartini_v2/GlnBP/Strfiles/GlnBP_No9.gro\n",
      "\n",
      "\n",
      "\n",
      "\n",
      "\n",
      "\n",
      "\n",
      "GlnBP uses the multiple basin potential.\n",
      "['True', 'exp', '2', '1/300', '-300', '0']\n",
      "-1/beta * log(exp(-beta * (energy1 + C1)) + exp(-beta * (energy2 + C2)));\n",
      "energy1 = state1_force1;\n",
      "energy2 = state2_force1;\n",
      "GlnBP uses the multiple basin potential.\n",
      "['True', 'exp', '2', '1/300', '-300', '0']\n",
      "GlnBP uses the multiple basin potential.\n",
      "['True', 'exp', '2', '1/300', '-300', '0']\n",
      "-1/beta * log(exp(-beta * (energy1 + C1)) + exp(-beta * (energy2 + C2)));\n",
      "energy1 = state1_force1;\n",
      "energy2 = state2_force1;\n",
      "-1/beta * log(exp(-beta * (energy1 + C1)) + exp(-beta * (energy2 + C2)));\n",
      "energy1 = state1_force1;\n",
      "energy2 = state2_force1;\n",
      "GlnBP uses the multiple basin potential.\n",
      "['True', 'exp', '2', '1/300', '-300', '0']\n",
      "-1/beta * log(exp(-beta * (energy1 + C1)) + exp(-beta * (energy2 + C2)));\n",
      "energy1 = state1_force1;\n",
      "energy2 = state2_force1;\n",
      "GlnBP uses the multiple basin potential.\n",
      "['True', 'exp', '2', '1/300', '-300', '0']\n",
      "-1/beta * log(exp(-beta * (energy1 + C1)) + exp(-beta * (energy2 + C2)));\n",
      "energy1 = state1_force1;\n",
      "energy2 = state2_force1;\n",
      "GlnBP uses the multiple basin potential.\n",
      "['True', 'exp', '2', '1/300', '-300', '0']\n",
      "-1/beta * log(exp(-beta * (energy1 + C1)) + exp(-beta * (energy2 + C2)));\n",
      "energy1 = state1_force1;\n",
      "energy2 = state2_force1;\n",
      "GlnBP uses the multiple basin potential.\n",
      "['True', 'exp', '2', '1/300', '-300', '0']\n",
      "GlnBP uses the multiple basin potential.\n",
      "['True', 'exp', '2', '1/300', '-300', '0']\n",
      "-1/beta * log(exp(-beta * (energy1 + C1)) + exp(-beta * (energy2 + C2)));\n",
      "energy1 = state1_force1;\n",
      "energy2 = state2_force1;\n",
      "GlnBP uses the multiple basin potential.\n",
      "['True', 'exp', '2', '1/300', '-300', '0']-1/beta * log(exp(-beta * (energy1 + C1)) + exp(-beta * (energy2 + C2)));\n",
      "energy1 = state1_force1;\n",
      "energy2 = state2_force1;\n",
      "\n",
      "-1/beta * log(exp(-beta * (energy1 + C1)) + exp(-beta * (energy2 + C2)));\n",
      "energy1 = state1_force1;\n",
      "energy2 = state2_force1;\n",
      "GlnBP uses the multiple basin potential.\n",
      "['True', 'exp', '2', '1/300', '-300', '0']\n",
      "-1/beta * log(exp(-beta * (energy1 + C1)) + exp(-beta * (energy2 + C2)));\n",
      "energy1 = state1_force1;\n",
      "energy2 = state2_force1;\n",
      "Exponential mixing scheme for multiple baisn popential\n",
      "Parameters:  ['True', 'exp', '2', '1/300', '-300', '0']\n",
      "Energy Compare\n",
      "Absolute error: 3.35e-06\n",
      "Relative error: 3.05e-11\n",
      "Energies match!\n"
     ]
    },
    {
     "name": "stderr",
     "output_type": "stream",
     "text": [
      "/tmp/ipykernel_151181/3613186070.py:78: RuntimeWarning: invalid value encountered in divide\n",
      "  relative_force_error = np.linalg.norm(forces1 - forces2, axis=1) / average\n"
     ]
    },
    {
     "name": "stdout",
     "output_type": "stream",
     "text": [
      "###Forces Compare###\n",
      "Max absolute error: 4.09e-06\n",
      "Max relative error: 3.83e-07\n",
      "      Max allclose: -1.07e-03\n",
      "Forces match!\n",
      "Exponential mixing scheme for multiple baisn popential\n",
      "Parameters:  ['True', 'exp', '2', '1/300', '-300', '0']\n",
      "Energy Compare\n",
      "Absolute error: 3.17e-06\n",
      "Relative error: 2.89e-11\n",
      "Energies match!\n"
     ]
    },
    {
     "name": "stderr",
     "output_type": "stream",
     "text": [
      "/tmp/ipykernel_151181/3613186070.py:78: RuntimeWarning: invalid value encountered in divide\n",
      "  relative_force_error = np.linalg.norm(forces1 - forces2, axis=1) / average\n"
     ]
    },
    {
     "name": "stdout",
     "output_type": "stream",
     "text": [
      "###Forces Compare###\n",
      "Max absolute error: 4.08e-06\n",
      "Max relative error: 7.50e-07\n",
      "      Max allclose: -5.49e-04\n",
      "Forces match!\n",
      "Exponential mixing scheme for multiple baisn popential\n",
      "Parameters:  ['True', 'exp', '2', '1/300', '-300', '0']\n",
      "Energy Compare\n",
      "Absolute error: 3.48e-06\n",
      "Relative error: 3.17e-11\n",
      "Energies match!\n"
     ]
    },
    {
     "name": "stderr",
     "output_type": "stream",
     "text": [
      "/tmp/ipykernel_151181/3613186070.py:78: RuntimeWarning: invalid value encountered in divide\n",
      "  relative_force_error = np.linalg.norm(forces1 - forces2, axis=1) / average\n"
     ]
    },
    {
     "name": "stdout",
     "output_type": "stream",
     "text": [
      "###Forces Compare###\n",
      "Max absolute error: 5.21e-06\n",
      "Max relative error: 9.26e-07\n",
      "      Max allclose: -5.67e-04\n",
      "Forces match!\n",
      "Exponential mixing scheme for multiple baisn popential\n",
      "Parameters:  ['True', 'exp', '2', '1/300', '-300', '0']\n",
      "Energy Compare\n",
      "Absolute error: 3.71e-06\n",
      "Relative error: 3.38e-11\n",
      "Energies match!\n"
     ]
    },
    {
     "name": "stderr",
     "output_type": "stream",
     "text": [
      "/tmp/ipykernel_151181/3613186070.py:78: RuntimeWarning: invalid value encountered in divide\n",
      "  relative_force_error = np.linalg.norm(forces1 - forces2, axis=1) / average\n"
     ]
    },
    {
     "name": "stdout",
     "output_type": "stream",
     "text": [
      "###Forces Compare###\n",
      "Max absolute error: 4.49e-06\n",
      "Max relative error: 1.38e-06\n",
      "      Max allclose: -3.30e-04\n",
      "Forces match!\n",
      "Exponential mixing scheme for multiple baisn popential\n",
      "Parameters:  ['True', 'exp', '2', '1/300', '-300', '0']\n",
      "Energy Compare\n",
      "Absolute error: 2.97e-06\n",
      "Relative error: 2.70e-11\n",
      "Energies match!\n"
     ]
    },
    {
     "name": "stderr",
     "output_type": "stream",
     "text": [
      "/tmp/ipykernel_151181/3613186070.py:78: RuntimeWarning: invalid value encountered in divide\n",
      "  relative_force_error = np.linalg.norm(forces1 - forces2, axis=1) / average\n"
     ]
    },
    {
     "name": "stdout",
     "output_type": "stream",
     "text": [
      "###Forces Compare###\n",
      "Max absolute error: 5.31e-06\n",
      "Max relative error: 8.02e-07\n",
      "      Max allclose: -6.67e-04\n",
      "Forces match!\n",
      "Exponential mixing scheme for multiple baisn popential\n",
      "Parameters:  ['True', 'exp', '2', '1/300', '-300', '0']\n",
      "Energy Compare\n",
      "Absolute error: 3.43e-06\n",
      "Relative error: 3.12e-11\n",
      "Energies match!\n"
     ]
    },
    {
     "name": "stderr",
     "output_type": "stream",
     "text": [
      "/tmp/ipykernel_151181/3613186070.py:78: RuntimeWarning: invalid value encountered in divide\n",
      "  relative_force_error = np.linalg.norm(forces1 - forces2, axis=1) / average\n"
     ]
    },
    {
     "name": "stdout",
     "output_type": "stream",
     "text": [
      "###Forces Compare###\n",
      "Max absolute error: 2.27e-06\n",
      "Max relative error: 4.27e-07\n",
      "      Max allclose: -5.38e-04\n",
      "Forces match!\n",
      "Exponential mixing scheme for multiple baisn popential\n",
      "Parameters:  ['True', 'exp', '2', '1/300', '-300', '0']\n",
      "Energy Compare\n",
      "Absolute error: 3.44e-06\n",
      "Relative error: 3.13e-11\n",
      "Energies match!\n"
     ]
    },
    {
     "name": "stderr",
     "output_type": "stream",
     "text": [
      "/tmp/ipykernel_151181/3613186070.py:78: RuntimeWarning: invalid value encountered in divide\n",
      "  relative_force_error = np.linalg.norm(forces1 - forces2, axis=1) / average\n"
     ]
    },
    {
     "name": "stdout",
     "output_type": "stream",
     "text": [
      "###Forces Compare###\n",
      "Max absolute error: 7.12e-06\n",
      "Max relative error: 1.05e-06\n",
      "      Max allclose: -6.78e-04\n",
      "Forces match!\n",
      "Exponential mixing scheme for multiple baisn popential\n",
      "Parameters:  ['True', 'exp', '2', '1/300', '-300', '0']\n",
      "Energy Compare\n",
      "Absolute error: 3.33e-06\n",
      "Relative error: 3.04e-11\n",
      "Energies match!\n"
     ]
    },
    {
     "name": "stderr",
     "output_type": "stream",
     "text": [
      "/tmp/ipykernel_151181/3613186070.py:78: RuntimeWarning: invalid value encountered in divide\n",
      "  relative_force_error = np.linalg.norm(forces1 - forces2, axis=1) / average\n"
     ]
    },
    {
     "name": "stdout",
     "output_type": "stream",
     "text": [
      "###Forces Compare###\n",
      "Max absolute error: 6.87e-06\n",
      "Max relative error: 1.57e-06\n",
      "      Max allclose: -4.41e-04\n",
      "Forces match!\n",
      "Exponential mixing scheme for multiple baisn popential\n",
      "Parameters:  ['True', 'exp', '2', '1/300', '-300', '0']\n",
      "Energy Compare\n",
      "Absolute error: 3.20e-06\n",
      "Relative error: 2.91e-11\n",
      "Energies match!\n"
     ]
    },
    {
     "name": "stderr",
     "output_type": "stream",
     "text": [
      "/tmp/ipykernel_151181/3613186070.py:78: RuntimeWarning: invalid value encountered in divide\n",
      "  relative_force_error = np.linalg.norm(forces1 - forces2, axis=1) / average\n"
     ]
    },
    {
     "name": "stdout",
     "output_type": "stream",
     "text": [
      "###Forces Compare###\n",
      "Max absolute error: 2.54e-06\n",
      "Max relative error: 3.60e-07\n",
      "      Max allclose: -7.14e-04\n",
      "Forces match!\n",
      "Exponential mixing scheme for multiple baisn popential\n",
      "Parameters:  ['True', 'exp', '2', '1/300', '-300', '0']\n",
      "Energy Compare\n",
      "Absolute error: 3.63e-06\n",
      "Relative error: 3.30e-11\n",
      "Energies match!\n"
     ]
    },
    {
     "name": "stderr",
     "output_type": "stream",
     "text": [
      "/tmp/ipykernel_151181/3613186070.py:78: RuntimeWarning: invalid value encountered in divide\n",
      "  relative_force_error = np.linalg.norm(forces1 - forces2, axis=1) / average\n"
     ]
    },
    {
     "name": "stdout",
     "output_type": "stream",
     "text": [
      "###Forces Compare###\n",
      "Max absolute error: 6.71e-06\n",
      "Max relative error: 9.39e-07\n",
      "      Max allclose: -7.18e-04\n",
      "Forces match!\n",
      "/home/ys/CommonUse/Martini/test/CTGoMartini/tests/api\n",
      "[['True', 'exp', '2', '1/500', '-300', '0']]\n",
      "/home/ys/CommonUse/Martini/test/CTGoMartini/tests/api/../data/MultipleBasinGoMartini_v2/GlnBP/Strfiles/GlnBP_No0.gro/home/ys/CommonUse/Martini/test/CTGoMartini/tests/api/../data/MultipleBasinGoMartini_v2/GlnBP/Strfiles/GlnBP_No2.gro/home/ys/CommonUse/Martini/test/CTGoMartini/tests/api/../data/MultipleBasinGoMartini_v2/GlnBP/Strfiles/GlnBP_No3.gro/home/ys/CommonUse/Martini/test/CTGoMartini/tests/api/../data/MultipleBasinGoMartini_v2/GlnBP/Strfiles/GlnBP_No1.gro/home/ys/CommonUse/Martini/test/CTGoMartini/tests/api/../data/MultipleBasinGoMartini_v2/GlnBP/Strfiles/GlnBP_No5.gro/home/ys/CommonUse/Martini/test/CTGoMartini/tests/api/../data/MultipleBasinGoMartini_v2/GlnBP/Strfiles/GlnBP_No4.gro/home/ys/CommonUse/Martini/test/CTGoMartini/tests/api/../data/MultipleBasinGoMartini_v2/GlnBP/Strfiles/GlnBP_No6.gro/home/ys/CommonUse/Martini/test/CTGoMartini/tests/api/../data/MultipleBasinGoMartini_v2/GlnBP/Strfiles/GlnBP_No9.gro\n",
      "\n",
      "\n",
      "\n",
      "\n",
      "\n",
      "\n",
      "\n",
      "/home/ys/CommonUse/Martini/test/CTGoMartini/tests/api/../data/MultipleBasinGoMartini_v2/GlnBP/Strfiles/GlnBP_No8.gro/home/ys/CommonUse/Martini/test/CTGoMartini/tests/api/../data/MultipleBasinGoMartini_v2/GlnBP/Strfiles/GlnBP_No7.gro\n",
      "\n",
      "GlnBP uses the multiple basin potential.\n",
      "['True', 'exp', '2', '1/500', '-300', '0']\n",
      "-1/beta * log(exp(-beta * (energy1 + C1)) + exp(-beta * (energy2 + C2)));\n",
      "energy1 = state1_force1;\n",
      "energy2 = state2_force1;\n",
      "GlnBP uses the multiple basin potential.\n",
      "['True', 'exp', '2', '1/500', '-300', '0']\n",
      "-1/beta * log(exp(-beta * (energy1 + C1)) + exp(-beta * (energy2 + C2)));\n",
      "energy1 = state1_force1;\n",
      "energy2 = state2_force1;\n",
      "GlnBP uses the multiple basin potential.\n",
      "['True', 'exp', '2', '1/500', '-300', '0']\n",
      "GlnBP uses the multiple basin potential.\n",
      "['True', 'exp', '2', '1/500', '-300', '0']\n",
      "-1/beta * log(exp(-beta * (energy1 + C1)) + exp(-beta * (energy2 + C2)));\n",
      "energy1 = state1_force1;\n",
      "energy2 = state2_force1;\n",
      "-1/beta * log(exp(-beta * (energy1 + C1)) + exp(-beta * (energy2 + C2)));\n",
      "energy1 = state1_force1;\n",
      "energy2 = state2_force1;\n",
      "GlnBP uses the multiple basin potential.\n",
      "['True', 'exp', '2', '1/500', '-300', '0']\n",
      "-1/beta * log(exp(-beta * (energy1 + C1)) + exp(-beta * (energy2 + C2)));\n",
      "energy1 = state1_force1;\n",
      "energy2 = state2_force1;\n",
      "GlnBP uses the multiple basin potential.\n",
      "['True', 'exp', '2', '1/500', '-300', '0']\n",
      "-1/beta * log(exp(-beta * (energy1 + C1)) + exp(-beta * (energy2 + C2)));\n",
      "energy1 = state1_force1;\n",
      "energy2 = state2_force1;\n",
      "GlnBP uses the multiple basin potential.\n",
      "['True', 'exp', '2', '1/500', '-300', '0']\n",
      "-1/beta * log(exp(-beta * (energy1 + C1)) + exp(-beta * (energy2 + C2)));\n",
      "energy1 = state1_force1;\n",
      "energy2 = state2_force1;\n",
      "GlnBP uses the multiple basin potential.\n",
      "['True', 'exp', '2', '1/500', '-300', '0']\n",
      "-1/beta * log(exp(-beta * (energy1 + C1)) + exp(-beta * (energy2 + C2)));\n",
      "energy1 = state1_force1;\n",
      "energy2 = state2_force1;\n",
      "GlnBP uses the multiple basin potential.\n",
      "['True', 'exp', '2', '1/500', '-300', '0']\n",
      "-1/beta * log(exp(-beta * (energy1 + C1)) + exp(-beta * (energy2 + C2)));\n",
      "energy1 = state1_force1;\n",
      "energy2 = state2_force1;\n",
      "GlnBP uses the multiple basin potential.\n",
      "['True', 'exp', '2', '1/500', '-300', '0']\n",
      "-1/beta * log(exp(-beta * (energy1 + C1)) + exp(-beta * (energy2 + C2)));\n",
      "energy1 = state1_force1;\n",
      "energy2 = state2_force1;\n",
      "Exponential mixing scheme for multiple baisn popential\n",
      "Parameters:  ['True', 'exp', '2', '1/500', '-300', '0']\n",
      "Energy Compare\n",
      "Absolute error: 3.18e-06\n",
      "Relative error: 2.89e-11\n",
      "Energies match!\n"
     ]
    },
    {
     "name": "stderr",
     "output_type": "stream",
     "text": [
      "/tmp/ipykernel_151181/3613186070.py:78: RuntimeWarning: invalid value encountered in divide\n",
      "  relative_force_error = np.linalg.norm(forces1 - forces2, axis=1) / average\n"
     ]
    },
    {
     "name": "stdout",
     "output_type": "stream",
     "text": [
      "###Forces Compare###\n",
      "Max absolute error: 4.08e-06\n",
      "Max relative error: 7.50e-07\n",
      "      Max allclose: -5.49e-04\n",
      "Forces match!\n",
      "Exponential mixing scheme for multiple baisn popential\n",
      "Parameters:  ['True', 'exp', '2', '1/500', '-300', '0']\n",
      "Energy Compare\n",
      "Absolute error: 3.63e-06\n",
      "Relative error: 3.30e-11\n",
      "Energies match!\n"
     ]
    },
    {
     "name": "stderr",
     "output_type": "stream",
     "text": [
      "/tmp/ipykernel_151181/3613186070.py:78: RuntimeWarning: invalid value encountered in divide\n",
      "  relative_force_error = np.linalg.norm(forces1 - forces2, axis=1) / average\n"
     ]
    },
    {
     "name": "stdout",
     "output_type": "stream",
     "text": [
      "###Forces Compare###\n",
      "Max absolute error: 6.71e-06\n",
      "Max relative error: 9.39e-07\n",
      "      Max allclose: -7.18e-04\n",
      "Exponential mixing scheme for multiple baisn popential\n",
      "Forces match!Parameters:  ['True', 'exp', '2', '1/500', '-300', '0']\n",
      "Energy Compare\n",
      "\n",
      "Absolute error: 3.21e-06\n",
      "Relative error: 2.93e-11\n",
      "Energies match!\n"
     ]
    },
    {
     "name": "stderr",
     "output_type": "stream",
     "text": [
      "/tmp/ipykernel_151181/3613186070.py:78: RuntimeWarning: invalid value encountered in divide\n",
      "  relative_force_error = np.linalg.norm(forces1 - forces2, axis=1) / average\n"
     ]
    },
    {
     "name": "stdout",
     "output_type": "stream",
     "text": [
      "###Forces Compare###\n",
      "Max absolute error: 2.54e-06\n",
      "Max relative error: 3.60e-07\n",
      "      Max allclose: -7.14e-04\n",
      "Forces match!\n",
      "Exponential mixing scheme for multiple baisn popential\n",
      "Parameters:  ['True', 'exp', '2', '1/500', '-300', '0']\n",
      "Energy Compare\n",
      "Absolute error: 3.39e-06\n",
      "Relative error: 3.08e-11\n",
      "Energies match!\n"
     ]
    },
    {
     "name": "stderr",
     "output_type": "stream",
     "text": [
      "/tmp/ipykernel_151181/3613186070.py:78: RuntimeWarning: invalid value encountered in divide\n",
      "  relative_force_error = np.linalg.norm(forces1 - forces2, axis=1) / average\n"
     ]
    },
    {
     "name": "stdout",
     "output_type": "stream",
     "text": [
      "###Forces Compare###\n",
      "Max absolute error: 2.27e-06\n",
      "Max relative error: 4.27e-07\n",
      "      Max allclose: -5.38e-04\n",
      "Forces match!\n",
      "Exponential mixing scheme for multiple baisn popential\n",
      "Parameters:  ['True', 'exp', '2', '1/500', '-300', '0']\n",
      "Energy Compare\n",
      "Absolute error: 3.32e-06\n",
      "Relative error: 3.03e-11\n",
      "Energies match!\n"
     ]
    },
    {
     "name": "stderr",
     "output_type": "stream",
     "text": [
      "/tmp/ipykernel_151181/3613186070.py:78: RuntimeWarning: invalid value encountered in divide\n",
      "  relative_force_error = np.linalg.norm(forces1 - forces2, axis=1) / average\n"
     ]
    },
    {
     "name": "stdout",
     "output_type": "stream",
     "text": [
      "###Forces Compare###\n",
      "Max absolute error: 6.87e-06\n",
      "Max relative error: 1.57e-06\n",
      "      Max allclose: -4.41e-04\n",
      "Forces match!\n",
      "Exponential mixing scheme for multiple baisn popential\n",
      "Parameters:  ['True', 'exp', '2', '1/500', '-300', '0']\n",
      "Energy Compare\n",
      "Absolute error: 3.46e-06\n",
      "Relative error: 3.15e-11\n",
      "Energies match!\n"
     ]
    },
    {
     "name": "stderr",
     "output_type": "stream",
     "text": [
      "/tmp/ipykernel_151181/3613186070.py:78: RuntimeWarning: invalid value encountered in divide\n",
      "  relative_force_error = np.linalg.norm(forces1 - forces2, axis=1) / average\n"
     ]
    },
    {
     "name": "stdout",
     "output_type": "stream",
     "text": [
      "###Forces Compare###\n",
      "Max absolute error: 5.21e-06\n",
      "Max relative error: 9.26e-07\n",
      "      Max allclose: -5.67e-04\n",
      "Forces match!\n",
      "Exponential mixing scheme for multiple baisn popential\n",
      "Parameters:  ['True', 'exp', '2', '1/500', '-300', '0']\n",
      "Energy Compare\n",
      "Absolute error: 3.38e-06\n",
      "Relative error: 3.08e-11\n",
      "Energies match!\n"
     ]
    },
    {
     "name": "stderr",
     "output_type": "stream",
     "text": [
      "/tmp/ipykernel_151181/3613186070.py:78: RuntimeWarning: invalid value encountered in divide\n",
      "  relative_force_error = np.linalg.norm(forces1 - forces2, axis=1) / average\n"
     ]
    },
    {
     "name": "stdout",
     "output_type": "stream",
     "text": [
      "###Forces Compare###\n",
      "Max absolute error: 7.12e-06\n",
      "Max relative error: 1.05e-06\n",
      "      Max allclose: -6.78e-04\n",
      "Forces match!\n",
      "Exponential mixing scheme for multiple baisn popential\n",
      "Parameters:  ['True', 'exp', '2', '1/500', '-300', '0']\n",
      "Energy Compare\n",
      "Absolute error: 3.71e-06\n",
      "Relative error: 3.38e-11\n",
      "Energies match!\n"
     ]
    },
    {
     "name": "stderr",
     "output_type": "stream",
     "text": [
      "/tmp/ipykernel_151181/3613186070.py:78: RuntimeWarning: invalid value encountered in divide\n",
      "  relative_force_error = np.linalg.norm(forces1 - forces2, axis=1) / average\n"
     ]
    },
    {
     "name": "stdout",
     "output_type": "stream",
     "text": [
      "###Forces Compare###\n",
      "Max absolute error: 4.49e-06\n",
      "Max relative error: 1.38e-06\n",
      "      Max allclose: -3.30e-04\n",
      "Forces match!\n",
      "Exponential mixing scheme for multiple baisn popential\n",
      "Parameters:  ['True', 'exp', '2', '1/500', '-300', '0']\n",
      "Energy Compare\n",
      "Absolute error: 3.40e-06\n",
      "Relative error: 3.10e-11\n",
      "Energies match!\n"
     ]
    },
    {
     "name": "stderr",
     "output_type": "stream",
     "text": [
      "/tmp/ipykernel_151181/3613186070.py:78: RuntimeWarning: invalid value encountered in divide\n",
      "  relative_force_error = np.linalg.norm(forces1 - forces2, axis=1) / average\n"
     ]
    },
    {
     "name": "stdout",
     "output_type": "stream",
     "text": [
      "###Forces Compare###\n",
      "Max absolute error: 4.09e-06\n",
      "Max relative error: 3.83e-07\n",
      "      Max allclose: -1.07e-03\n",
      "Forces match!\n",
      "Exponential mixing scheme for multiple baisn popential\n",
      "Parameters:  ['True', 'exp', '2', '1/500', '-300', '0']\n",
      "Energy Compare\n",
      "Absolute error: 2.98e-06\n",
      "Relative error: 2.71e-11\n",
      "Energies match!\n"
     ]
    },
    {
     "name": "stderr",
     "output_type": "stream",
     "text": [
      "/tmp/ipykernel_151181/3613186070.py:78: RuntimeWarning: invalid value encountered in divide\n",
      "  relative_force_error = np.linalg.norm(forces1 - forces2, axis=1) / average\n"
     ]
    },
    {
     "name": "stdout",
     "output_type": "stream",
     "text": [
      "###Forces Compare###\n",
      "Max absolute error: 5.31e-06\n",
      "Max relative error: 8.02e-07\n",
      "      Max allclose: -6.67e-04\n",
      "Forces match!\n",
      "/home/ys/CommonUse/Martini/test/CTGoMartini/tests/api\n",
      "[['True', 'exp', '2', '1/300', '-600', '0']]\n",
      "/home/ys/CommonUse/Martini/test/CTGoMartini/tests/api/../data/MultipleBasinGoMartini_v2/GlnBP/Strfiles/GlnBP_No1.gro\n",
      "/home/ys/CommonUse/Martini/test/CTGoMartini/tests/api/../data/MultipleBasinGoMartini_v2/GlnBP/Strfiles/GlnBP_No3.gro/home/ys/CommonUse/Martini/test/CTGoMartini/tests/api/../data/MultipleBasinGoMartini_v2/GlnBP/Strfiles/GlnBP_No0.gro/home/ys/CommonUse/Martini/test/CTGoMartini/tests/api/../data/MultipleBasinGoMartini_v2/GlnBP/Strfiles/GlnBP_No2.gro/home/ys/CommonUse/Martini/test/CTGoMartini/tests/api/../data/MultipleBasinGoMartini_v2/GlnBP/Strfiles/GlnBP_No6.gro/home/ys/CommonUse/Martini/test/CTGoMartini/tests/api/../data/MultipleBasinGoMartini_v2/GlnBP/Strfiles/GlnBP_No8.gro/home/ys/CommonUse/Martini/test/CTGoMartini/tests/api/../data/MultipleBasinGoMartini_v2/GlnBP/Strfiles/GlnBP_No5.gro/home/ys/CommonUse/Martini/test/CTGoMartini/tests/api/../data/MultipleBasinGoMartini_v2/GlnBP/Strfiles/GlnBP_No7.gro/home/ys/CommonUse/Martini/test/CTGoMartini/tests/api/../data/MultipleBasinGoMartini_v2/GlnBP/Strfiles/GlnBP_No9.gro\n",
      "\n",
      "/home/ys/CommonUse/Martini/test/CTGoMartini/tests/api/../data/MultipleBasinGoMartini_v2/GlnBP/Strfiles/GlnBP_No4.gro\n",
      "\n",
      "\n",
      "\n",
      "\n",
      "\n",
      "\n",
      "GlnBP uses the multiple basin potential.\n",
      "['True', 'exp', '2', '1/300', '-600', '0']\n",
      "-1/beta * log(exp(-beta * (energy1 + C1)) + exp(-beta * (energy2 + C2)));\n",
      "energy1 = state1_force1;\n",
      "energy2 = state2_force1;\n",
      "GlnBP uses the multiple basin potential.\n",
      "['True', 'exp', '2', '1/300', '-600', '0']\n",
      "-1/beta * log(exp(-beta * (energy1 + C1)) + exp(-beta * (energy2 + C2)));\n",
      "energy1 = state1_force1;\n",
      "energy2 = state2_force1;\n",
      "GlnBP uses the multiple basin potential.\n",
      "['True', 'exp', '2', '1/300', '-600', '0']\n",
      "-1/beta * log(exp(-beta * (energy1 + C1)) + exp(-beta * (energy2 + C2)));\n",
      "energy1 = state1_force1;\n",
      "energy2 = state2_force1;\n",
      "GlnBP uses the multiple basin potential.\n",
      "['True', 'exp', '2', '1/300', '-600', '0']\n",
      "-1/beta * log(exp(-beta * (energy1 + C1)) + exp(-beta * (energy2 + C2)));\n",
      "energy1 = state1_force1;\n",
      "energy2 = state2_force1;\n",
      "GlnBP uses the multiple basin potential.\n",
      "['True', 'exp', '2', '1/300', '-600', '0']\n",
      "-1/beta * log(exp(-beta * (energy1 + C1)) + exp(-beta * (energy2 + C2)));\n",
      "energy1 = state1_force1;\n",
      "energy2 = state2_force1;\n",
      "GlnBP uses the multiple basin potential.\n",
      "['True', 'exp', '2', '1/300', '-600', '0']\n",
      "-1/beta * log(exp(-beta * (energy1 + C1)) + exp(-beta * (energy2 + C2)));\n",
      "energy1 = state1_force1;\n",
      "energy2 = state2_force1;\n",
      "GlnBP uses the multiple basin potential.\n",
      "['True', 'exp', '2', '1/300', '-600', '0']\n",
      "-1/beta * log(exp(-beta * (energy1 + C1)) + exp(-beta * (energy2 + C2)));\n",
      "energy1 = state1_force1;\n",
      "energy2 = state2_force1;\n",
      "GlnBP uses the multiple basin potential.\n",
      "['True', 'exp', '2', '1/300', '-600', '0']\n",
      "-1/beta * log(exp(-beta * (energy1 + C1)) + exp(-beta * (energy2 + C2)));\n",
      "energy1 = state1_force1;\n",
      "energy2 = state2_force1;\n",
      "GlnBP uses the multiple basin potential.\n",
      "['True', 'exp', '2', '1/300', '-600', '0']\n",
      "-1/beta * log(exp(-beta * (energy1 + C1)) + exp(-beta * (energy2 + C2)));\n",
      "energy1 = state1_force1;\n",
      "energy2 = state2_force1;\n",
      "GlnBP uses the multiple basin potential.\n",
      "['True', 'exp', '2', '1/300', '-600', '0']\n",
      "-1/beta * log(exp(-beta * (energy1 + C1)) + exp(-beta * (energy2 + C2)));\n",
      "energy1 = state1_force1;\n",
      "energy2 = state2_force1;\n",
      "Exponential mixing scheme for multiple baisn popential\n",
      "Parameters:  ['True', 'exp', '2', '1/300', '-600', '0']\n",
      "Energy Compare\n",
      "Absolute error: 3.48e-06\n",
      "Relative error: 3.16e-11\n",
      "Energies match!\n"
     ]
    },
    {
     "name": "stderr",
     "output_type": "stream",
     "text": [
      "/tmp/ipykernel_151181/3613186070.py:78: RuntimeWarning: invalid value encountered in divide\n",
      "  relative_force_error = np.linalg.norm(forces1 - forces2, axis=1) / average\n"
     ]
    },
    {
     "name": "stdout",
     "output_type": "stream",
     "text": [
      "###Forces Compare###\n",
      "Max absolute error: 5.21e-06\n",
      "Max relative error: 9.26e-07\n",
      "      Max allclose: -5.67e-04\n",
      "Forces match!\n",
      "Exponential mixing scheme for multiple baisn popential\n",
      "Parameters:  ['True', 'exp', '2', '1/300', '-600', '0']\n",
      "Energy Compare\n",
      "Absolute error: 3.33e-06\n",
      "Relative error: 3.02e-11\n",
      "Energies match!\n"
     ]
    },
    {
     "name": "stderr",
     "output_type": "stream",
     "text": [
      "/tmp/ipykernel_151181/3613186070.py:78: RuntimeWarning: invalid value encountered in divide\n",
      "  relative_force_error = np.linalg.norm(forces1 - forces2, axis=1) / average\n"
     ]
    },
    {
     "name": "stdout",
     "output_type": "stream",
     "text": [
      "###Forces Compare###\n",
      "Max absolute error: 4.09e-06\n",
      "Max relative error: 3.83e-07\n",
      "      Max allclose: -1.07e-03\n",
      "Forces match!\n",
      "Exponential mixing scheme for multiple baisn popential\n",
      "Parameters:  ['True', 'exp', '2', '1/300', '-600', '0']\n",
      "Energy Compare\n",
      "Absolute error: 3.44e-06\n",
      "Relative error: 3.13e-11\n",
      "Energies match!\n"
     ]
    },
    {
     "name": "stderr",
     "output_type": "stream",
     "text": [
      "/tmp/ipykernel_151181/3613186070.py:78: RuntimeWarning: invalid value encountered in divide\n",
      "  relative_force_error = np.linalg.norm(forces1 - forces2, axis=1) / average\n"
     ]
    },
    {
     "name": "stdout",
     "output_type": "stream",
     "text": [
      "###Forces Compare###\n",
      "Max absolute error: 2.27e-06\n",
      "Max relative error: 4.27e-07\n",
      "      Max allclose: -5.38e-04\n",
      "Forces match!\n",
      "Exponential mixing scheme for multiple baisn popential\n",
      "Parameters:  ['True', 'exp', '2', '1/300', '-600', '0']\n",
      "Energy Compare\n",
      "Absolute error: 3.63e-06\n",
      "Relative error: 3.29e-11\n",
      "Energies match!\n"
     ]
    },
    {
     "name": "stderr",
     "output_type": "stream",
     "text": [
      "/tmp/ipykernel_151181/3613186070.py:78: RuntimeWarning: invalid value encountered in divide\n",
      "  relative_force_error = np.linalg.norm(forces1 - forces2, axis=1) / average\n"
     ]
    },
    {
     "name": "stdout",
     "output_type": "stream",
     "text": [
      "###Forces Compare###\n",
      "Max absolute error: 6.71e-06\n",
      "Max relative error: 9.39e-07\n",
      "      Max allclose: -7.18e-04\n",
      "Forces match!\n",
      "Exponential mixing scheme for multiple baisn popential\n",
      "Parameters:  ['True', 'exp', '2', '1/300', '-600', '0']\n",
      "Energy Compare\n",
      "Absolute error: 3.68e-06\n",
      "Relative error: 3.35e-11\n",
      "Energies match!\n"
     ]
    },
    {
     "name": "stderr",
     "output_type": "stream",
     "text": [
      "/tmp/ipykernel_151181/3613186070.py:78: RuntimeWarning: invalid value encountered in divide\n",
      "  relative_force_error = np.linalg.norm(forces1 - forces2, axis=1) / average\n"
     ]
    },
    {
     "name": "stdout",
     "output_type": "stream",
     "text": [
      "###Forces Compare###\n",
      "Max absolute error: 4.49e-06\n",
      "Max relative error: 1.38e-06\n",
      "      Max allclose: -3.30e-04\n",
      "Forces match!\n",
      "Exponential mixing scheme for multiple baisn popential\n",
      "Parameters:  ['True', 'exp', '2', '1/300', '-600', '0']\n",
      "Energy Compare\n",
      "Absolute error: 3.17e-06\n",
      "Relative error: 2.88e-11\n",
      "Energies match!\n"
     ]
    },
    {
     "name": "stderr",
     "output_type": "stream",
     "text": [
      "/tmp/ipykernel_151181/3613186070.py:78: RuntimeWarning: invalid value encountered in divide\n",
      "  relative_force_error = np.linalg.norm(forces1 - forces2, axis=1) / average\n"
     ]
    },
    {
     "name": "stdout",
     "output_type": "stream",
     "text": [
      "###Forces Compare###\n",
      "Max absolute error: 4.08e-06\n",
      "Max relative error: 7.50e-07\n",
      "      Max allclose: -5.49e-04\n",
      "Forces match!\n",
      "Exponential mixing scheme for multiple baisn popential\n",
      "Parameters:  ['True', 'exp', '2', '1/300', '-600', '0']\n",
      "Energy Compare\n",
      "Absolute error: 3.38e-06\n",
      "Relative error: 3.08e-11\n",
      "Energies match!\n"
     ]
    },
    {
     "name": "stderr",
     "output_type": "stream",
     "text": [
      "/tmp/ipykernel_151181/3613186070.py:78: RuntimeWarning: invalid value encountered in divide\n",
      "  relative_force_error = np.linalg.norm(forces1 - forces2, axis=1) / average\n"
     ]
    },
    {
     "name": "stdout",
     "output_type": "stream",
     "text": [
      "###Forces Compare###\n",
      "Max absolute error: 6.87e-06\n",
      "Max relative error: 1.57e-06\n",
      "      Max allclose: -4.41e-04\n",
      "Forces match!\n",
      "Exponential mixing scheme for multiple baisn popential\n",
      "Parameters:  Exponential mixing scheme for multiple baisn popential\n",
      "['True', 'exp', '2', '1/300', '-600', '0']Parameters:  \n",
      "['True', 'exp', '2', '1/300', '-600', '0']\n",
      "Energy CompareEnergy Compare\n",
      "\n",
      "Absolute error: 3.19e-06\n",
      "Absolute error: 3.47e-06Relative error: 2.90e-11\n",
      "\n",
      "Relative error: 3.15e-11Energies match!\n",
      "\n",
      "Energies match!"
     ]
    },
    {
     "name": "stderr",
     "output_type": "stream",
     "text": [
      "/tmp/ipykernel_151181/3613186070.py:78: RuntimeWarning: invalid value encountered in divide\n",
      "  relative_force_error = np.linalg.norm(forces1 - forces2, axis=1) / average\n"
     ]
    },
    {
     "name": "stdout",
     "output_type": "stream",
     "text": [
      "\n",
      "###Forces Compare###\n",
      "Max absolute error: 2.54e-06"
     ]
    },
    {
     "name": "stderr",
     "output_type": "stream",
     "text": [
      "/tmp/ipykernel_151181/3613186070.py:78: RuntimeWarning: invalid value encountered in divide\n",
      "  relative_force_error = np.linalg.norm(forces1 - forces2, axis=1) / average\n"
     ]
    },
    {
     "name": "stdout",
     "output_type": "stream",
     "text": [
      "\n",
      "Max relative error: 3.60e-07###Forces Compare###\n",
      "\n",
      "      Max allclose: -7.14e-04Max absolute error: 7.12e-06\n",
      "Forces match!\n",
      "Max relative error: 1.05e-06\n",
      "\n",
      "      Max allclose: -6.78e-04\n",
      "Forces match!\n",
      "Exponential mixing scheme for multiple baisn popential\n",
      "Parameters:  ['True', 'exp', '2', '1/300', '-600', '0']\n",
      "Energy Compare\n",
      "Absolute error: 2.97e-06\n",
      "Relative error: 2.69e-11\n",
      "Energies match!\n"
     ]
    },
    {
     "name": "stderr",
     "output_type": "stream",
     "text": [
      "/tmp/ipykernel_151181/3613186070.py:78: RuntimeWarning: invalid value encountered in divide\n",
      "  relative_force_error = np.linalg.norm(forces1 - forces2, axis=1) / average\n"
     ]
    },
    {
     "name": "stdout",
     "output_type": "stream",
     "text": [
      "###Forces Compare###\n",
      "Max absolute error: 5.31e-06\n",
      "Max relative error: 8.02e-07\n",
      "      Max allclose: -6.67e-04\n",
      "Forces match!\n"
     ]
    }
   ],
   "source": [
    "test.test_GlnBP_EXP()"
   ]
  },
  {
   "cell_type": "code",
   "execution_count": 10,
   "metadata": {},
   "outputs": [
    {
     "name": "stdout",
     "output_type": "stream",
     "text": [
      "/home/ys/CommonUse/Martini/test/CTGoMartini/tests/api\n",
      "[['True', 'ham', '2', '100', '-200', '0']]\n",
      "/home/ys/CommonUse/Martini/test/CTGoMartini/tests/api/../data/MultipleBasinGoMartini_v2/GlnBP/Strfiles/GlnBP_No7.gro/home/ys/CommonUse/Martini/test/CTGoMartini/tests/api/../data/MultipleBasinGoMartini_v2/GlnBP/Strfiles/GlnBP_No6.gro/home/ys/CommonUse/Martini/test/CTGoMartini/tests/api/../data/MultipleBasinGoMartini_v2/GlnBP/Strfiles/GlnBP_No1.gro/home/ys/CommonUse/Martini/test/CTGoMartini/tests/api/../data/MultipleBasinGoMartini_v2/GlnBP/Strfiles/GlnBP_No4.gro/home/ys/CommonUse/Martini/test/CTGoMartini/tests/api/../data/MultipleBasinGoMartini_v2/GlnBP/Strfiles/GlnBP_No0.gro/home/ys/CommonUse/Martini/test/CTGoMartini/tests/api/../data/MultipleBasinGoMartini_v2/GlnBP/Strfiles/GlnBP_No5.gro/home/ys/CommonUse/Martini/test/CTGoMartini/tests/api/../data/MultipleBasinGoMartini_v2/GlnBP/Strfiles/GlnBP_No2.gro\n",
      "/home/ys/CommonUse/Martini/test/CTGoMartini/tests/api/../data/MultipleBasinGoMartini_v2/GlnBP/Strfiles/GlnBP_No3.gro\n",
      "/home/ys/CommonUse/Martini/test/CTGoMartini/tests/api/../data/MultipleBasinGoMartini_v2/GlnBP/Strfiles/GlnBP_No8.gro/home/ys/CommonUse/Martini/test/CTGoMartini/tests/api/../data/MultipleBasinGoMartini_v2/GlnBP/Strfiles/GlnBP_No9.gro\n",
      "\n",
      "\n",
      "\n",
      "\n",
      "\n",
      "\n",
      "\n",
      "GlnBP uses the multiple basin potential.\n",
      "['True', 'ham', '2', '100', '-200', '0']\n",
      "GlnBP uses the multiple basin potential.\n",
      "['True', 'ham', '2', '100', '-200', '0']\n",
      "(energy1+energy2+deltaV)/2 - sqrt(((energy1-energy2-deltaV)/2)^2+delta^2);deltaV=mbp_energy2-mbp_energy1;;\n",
      "energy1 = state1_force1;\n",
      "energy2 = state2_force1;\n",
      "(energy1+energy2+deltaV)/2 - sqrt(((energy1-energy2-deltaV)/2)^2+delta^2);deltaV=mbp_energy2-mbp_energy1;;\n",
      "energy1 = state1_force1;\n",
      "energy2 = state2_force1;\n",
      "GlnBP uses the multiple basin potential.\n",
      "['True', 'ham', '2', '100', '-200', '0']\n",
      "(energy1+energy2+deltaV)/2 - sqrt(((energy1-energy2-deltaV)/2)^2+delta^2);deltaV=mbp_energy2-mbp_energy1;;\n",
      "energy1 = state1_force1;\n",
      "energy2 = state2_force1;\n",
      "GlnBP uses the multiple basin potential.\n",
      "['True', 'ham', '2', '100', '-200', '0']\n",
      "GlnBP uses the multiple basin potential.\n",
      "['True', 'ham', '2', '100', '-200', '0']\n",
      "(energy1+energy2+deltaV)/2 - sqrt(((energy1-energy2-deltaV)/2)^2+delta^2);deltaV=mbp_energy2-mbp_energy1;;\n",
      "energy1 = state1_force1;\n",
      "energy2 = state2_force1;\n",
      "(energy1+energy2+deltaV)/2 - sqrt(((energy1-energy2-deltaV)/2)^2+delta^2);deltaV=mbp_energy2-mbp_energy1;;\n",
      "energy1 = state1_force1;\n",
      "energy2 = state2_force1;\n",
      "GlnBP uses the multiple basin potential.\n",
      "['True', 'ham', '2', '100', '-200', '0']\n",
      "(energy1+energy2+deltaV)/2 - sqrt(((energy1-energy2-deltaV)/2)^2+delta^2);deltaV=mbp_energy2-mbp_energy1;;\n",
      "energy1 = state1_force1;\n",
      "energy2 = state2_force1;\n",
      "GlnBP uses the multiple basin potential.\n",
      "['True', 'ham', '2', '100', '-200', '0']\n",
      "(energy1+energy2+deltaV)/2 - sqrt(((energy1-energy2-deltaV)/2)^2+delta^2);deltaV=mbp_energy2-mbp_energy1;;\n",
      "energy1 = state1_force1;\n",
      "energy2 = state2_force1;\n",
      "GlnBP uses the multiple basin potential.\n",
      "['True', 'ham', '2', '100', '-200', '0']\n",
      "(energy1+energy2+deltaV)/2 - sqrt(((energy1-energy2-deltaV)/2)^2+delta^2);deltaV=mbp_energy2-mbp_energy1;;\n",
      "energy1 = state1_force1;\n",
      "energy2 = state2_force1;\n",
      "GlnBP uses the multiple basin potential.\n",
      "['True', 'ham', '2', '100', '-200', '0']\n",
      "(energy1+energy2+deltaV)/2 - sqrt(((energy1-energy2-deltaV)/2)^2+delta^2);deltaV=mbp_energy2-mbp_energy1;;\n",
      "energy1 = state1_force1;\n",
      "energy2 = state2_force1;\n",
      "GlnBP uses the multiple basin potential.\n",
      "['True', 'ham', '2', '100', '-200', '0']\n",
      "(energy1+energy2+deltaV)/2 - sqrt(((energy1-energy2-deltaV)/2)^2+delta^2);deltaV=mbp_energy2-mbp_energy1;;\n",
      "energy1 = state1_force1;\n",
      "energy2 = state2_force1;\n",
      "Hamiltonian mixing scheme for multiple baisn popential\n",
      "Parameters:  ['True', 'ham', '2', '100', '-200', '0']\n",
      "Energy Compare\n",
      "Absolute error: 3.19e-06\n",
      "Relative error: 2.92e-11\n",
      "Energies match!\n"
     ]
    },
    {
     "name": "stderr",
     "output_type": "stream",
     "text": [
      "/tmp/ipykernel_151181/3613186070.py:78: RuntimeWarning: invalid value encountered in divide\n",
      "  relative_force_error = np.linalg.norm(forces1 - forces2, axis=1) / average\n"
     ]
    },
    {
     "name": "stdout",
     "output_type": "stream",
     "text": [
      "###Forces Compare###\n",
      "Max absolute error: 2.54e-06\n",
      "Max relative error: 3.60e-07\n",
      "      Max allclose: -7.14e-04\n",
      "Forces match!\n",
      "Hamiltonian mixing scheme for multiple baisn popential\n",
      "Parameters:  ['True', 'ham', '2', '100', '-200', '0']\n",
      "Energy Compare\n",
      "Absolute error: 3.45e-06\n",
      "Relative error: 3.15e-11\n",
      "Energies match!\n"
     ]
    },
    {
     "name": "stderr",
     "output_type": "stream",
     "text": [
      "/tmp/ipykernel_151181/3613186070.py:78: RuntimeWarning: invalid value encountered in divide\n",
      "  relative_force_error = np.linalg.norm(forces1 - forces2, axis=1) / average\n"
     ]
    },
    {
     "name": "stdout",
     "output_type": "stream",
     "text": [
      "###Forces Compare###\n",
      "Max absolute error: 2.27e-06\n",
      "Max relative error: 4.27e-07\n",
      "      Max allclose: -5.38e-04\n",
      "Forces match!\n",
      "Hamiltonian mixing scheme for multiple baisn popential\n",
      "Parameters:  ['True', 'ham', '2', '100', '-200', '0']\n",
      "Energy Compare\n",
      "Absolute error: 3.32e-06\n",
      "Relative error: 3.04e-11\n",
      "Energies match!\n"
     ]
    },
    {
     "name": "stderr",
     "output_type": "stream",
     "text": [
      "/tmp/ipykernel_151181/3613186070.py:78: RuntimeWarning: invalid value encountered in divide\n",
      "  relative_force_error = np.linalg.norm(forces1 - forces2, axis=1) / average\n"
     ]
    },
    {
     "name": "stdout",
     "output_type": "stream",
     "text": [
      "###Forces Compare###\n",
      "Max absolute error: 4.09e-06\n",
      "Max relative error: 3.83e-07\n",
      "      Max allclose: -1.07e-03\n",
      "Forces match!\n",
      "Hamiltonian mixing scheme for multiple baisn popential\n",
      "Parameters:  ['True', 'ham', '2', '100', '-200', '0']\n",
      "Energy Compare\n",
      "Absolute error: 3.17e-06\n",
      "Relative error: 2.90e-11\n",
      "Energies match!\n"
     ]
    },
    {
     "name": "stderr",
     "output_type": "stream",
     "text": [
      "/tmp/ipykernel_151181/3613186070.py:78: RuntimeWarning: invalid value encountered in divide\n",
      "  relative_force_error = np.linalg.norm(forces1 - forces2, axis=1) / average\n"
     ]
    },
    {
     "name": "stdout",
     "output_type": "stream",
     "text": [
      "###Forces Compare###\n",
      "Max absolute error: 4.08e-06\n",
      "Max relative error: 7.50e-07\n",
      "      Max allclose: -5.49e-04\n",
      "Forces match!\n",
      "Hamiltonian mixing scheme for multiple baisn popential\n",
      "Parameters:  ['True', 'ham', '2', '100', '-200', '0']\n",
      "Energy Compare\n",
      "Absolute error: 3.72e-06\n",
      "Relative error: 3.40e-11\n",
      "Energies match!\n"
     ]
    },
    {
     "name": "stderr",
     "output_type": "stream",
     "text": [
      "/tmp/ipykernel_151181/3613186070.py:78: RuntimeWarning: invalid value encountered in divide\n",
      "  relative_force_error = np.linalg.norm(forces1 - forces2, axis=1) / average\n"
     ]
    },
    {
     "name": "stdout",
     "output_type": "stream",
     "text": [
      "###Forces Compare###\n",
      "Max absolute error: 4.49e-06\n",
      "Max relative error: 1.38e-06\n",
      "      Max allclose: -3.30e-04\n",
      "Forces match!\n",
      "Hamiltonian mixing scheme for multiple baisn popential\n",
      "Parameters:  ['True', 'ham', '2', '100', '-200', '0']\n",
      "Energy Compare\n",
      "Absolute error: 3.31e-06\n",
      "Relative error: 3.03e-11\n",
      "Energies match!\n"
     ]
    },
    {
     "name": "stderr",
     "output_type": "stream",
     "text": [
      "/tmp/ipykernel_151181/3613186070.py:78: RuntimeWarning: invalid value encountered in divide\n",
      "  relative_force_error = np.linalg.norm(forces1 - forces2, axis=1) / average\n"
     ]
    },
    {
     "name": "stdout",
     "output_type": "stream",
     "text": [
      "###Forces Compare###\n",
      "Max absolute error: 6.87e-06\n",
      "Max relative error: 1.57e-06\n",
      "      Max allclose: -4.41e-04\n",
      "Forces match!\n",
      "Hamiltonian mixing scheme for multiple baisn popential\n",
      "Parameters:  ['True', 'ham', '2', '100', '-200', '0']\n",
      "Energy Compare\n",
      "Absolute error: 3.63e-06\n",
      "Relative error: 3.31e-11\n",
      "Energies match!\n"
     ]
    },
    {
     "name": "stderr",
     "output_type": "stream",
     "text": [
      "/tmp/ipykernel_151181/3613186070.py:78: RuntimeWarning: invalid value encountered in divide\n",
      "  relative_force_error = np.linalg.norm(forces1 - forces2, axis=1) / average\n"
     ]
    },
    {
     "name": "stdout",
     "output_type": "stream",
     "text": [
      "###Forces Compare###\n",
      "Max absolute error: 6.71e-06\n",
      "Max relative error: 9.39e-07\n",
      "      Max allclose: -7.18e-04\n",
      "Forces match!\n",
      "Hamiltonian mixing scheme for multiple baisn popential\n",
      "Parameters:  ['True', 'ham', '2', '100', '-200', '0']\n",
      "Energy Compare\n",
      "Absolute error: 3.48e-06\n",
      "Relative error: 3.18e-11\n",
      "Energies match!\n"
     ]
    },
    {
     "name": "stderr",
     "output_type": "stream",
     "text": [
      "/tmp/ipykernel_151181/3613186070.py:78: RuntimeWarning: invalid value encountered in divide\n",
      "  relative_force_error = np.linalg.norm(forces1 - forces2, axis=1) / average\n"
     ]
    },
    {
     "name": "stdout",
     "output_type": "stream",
     "text": [
      "###Forces Compare###\n",
      "Max absolute error: 5.21e-06\n",
      "Max relative error: 9.26e-07\n",
      "      Max allclose: -5.67e-04\n",
      "Forces match!\n",
      "Hamiltonian mixing scheme for multiple baisn popential\n",
      "Parameters:  ['True', 'ham', '2', '100', '-200', '0']\n",
      "Energy Compare\n",
      "Absolute error: 3.47e-06\n",
      "Relative error: 3.17e-11\n",
      "Energies match!\n"
     ]
    },
    {
     "name": "stderr",
     "output_type": "stream",
     "text": [
      "/tmp/ipykernel_151181/3613186070.py:78: RuntimeWarning: invalid value encountered in divide\n",
      "  relative_force_error = np.linalg.norm(forces1 - forces2, axis=1) / average\n"
     ]
    },
    {
     "name": "stdout",
     "output_type": "stream",
     "text": [
      "###Forces Compare###\n",
      "Max absolute error: 7.12e-06\n",
      "Max relative error: 1.05e-06\n",
      "      Max allclose: -6.78e-04\n",
      "Forces match!\n",
      "Hamiltonian mixing scheme for multiple baisn popential\n",
      "Parameters:  ['True', 'ham', '2', '100', '-200', '0']\n",
      "Energy Compare\n",
      "Absolute error: 2.97e-06\n",
      "Relative error: 2.70e-11\n",
      "Energies match!\n"
     ]
    },
    {
     "name": "stderr",
     "output_type": "stream",
     "text": [
      "/tmp/ipykernel_151181/3613186070.py:78: RuntimeWarning: invalid value encountered in divide\n",
      "  relative_force_error = np.linalg.norm(forces1 - forces2, axis=1) / average\n"
     ]
    },
    {
     "name": "stdout",
     "output_type": "stream",
     "text": [
      "###Forces Compare###\n",
      "Max absolute error: 5.31e-06\n",
      "Max relative error: 8.02e-07\n",
      "      Max allclose: -6.67e-04\n",
      "Forces match!\n",
      "/home/ys/CommonUse/Martini/test/CTGoMartini/tests/api\n",
      "[['True', 'ham', '2', '600', '-200', '0']]\n",
      "/home/ys/CommonUse/Martini/test/CTGoMartini/tests/api/../data/MultipleBasinGoMartini_v2/GlnBP/Strfiles/GlnBP_No0.gro/home/ys/CommonUse/Martini/test/CTGoMartini/tests/api/../data/MultipleBasinGoMartini_v2/GlnBP/Strfiles/GlnBP_No3.gro/home/ys/CommonUse/Martini/test/CTGoMartini/tests/api/../data/MultipleBasinGoMartini_v2/GlnBP/Strfiles/GlnBP_No1.gro/home/ys/CommonUse/Martini/test/CTGoMartini/tests/api/../data/MultipleBasinGoMartini_v2/GlnBP/Strfiles/GlnBP_No4.gro/home/ys/CommonUse/Martini/test/CTGoMartini/tests/api/../data/MultipleBasinGoMartini_v2/GlnBP/Strfiles/GlnBP_No5.gro/home/ys/CommonUse/Martini/test/CTGoMartini/tests/api/../data/MultipleBasinGoMartini_v2/GlnBP/Strfiles/GlnBP_No6.gro/home/ys/CommonUse/Martini/test/CTGoMartini/tests/api/../data/MultipleBasinGoMartini_v2/GlnBP/Strfiles/GlnBP_No2.gro\n",
      "/home/ys/CommonUse/Martini/test/CTGoMartini/tests/api/../data/MultipleBasinGoMartini_v2/GlnBP/Strfiles/GlnBP_No9.gro\n",
      "\n",
      "\n",
      "\n",
      "\n",
      "\n",
      "\n",
      "/home/ys/CommonUse/Martini/test/CTGoMartini/tests/api/../data/MultipleBasinGoMartini_v2/GlnBP/Strfiles/GlnBP_No7.gro\n",
      "/home/ys/CommonUse/Martini/test/CTGoMartini/tests/api/../data/MultipleBasinGoMartini_v2/GlnBP/Strfiles/GlnBP_No8.gro\n",
      "GlnBP uses the multiple basin potential.\n",
      "['True', 'ham', '2', '600', '-200', '0']\n",
      "(energy1+energy2+deltaV)/2 - sqrt(((energy1-energy2-deltaV)/2)^2+delta^2);deltaV=mbp_energy2-mbp_energy1;;\n",
      "energy1 = state1_force1;\n",
      "energy2 = state2_force1;\n",
      "GlnBP uses the multiple basin potential.\n",
      "['True', 'ham', '2', '600', '-200', '0']\n",
      "GlnBP uses the multiple basin potential.\n",
      "['True', 'ham', '2', '600', '-200', '0']\n",
      "(energy1+energy2+deltaV)/2 - sqrt(((energy1-energy2-deltaV)/2)^2+delta^2);deltaV=mbp_energy2-mbp_energy1;;\n",
      "energy1 = state1_force1;\n",
      "energy2 = state2_force1;\n",
      "(energy1+energy2+deltaV)/2 - sqrt(((energy1-energy2-deltaV)/2)^2+delta^2);deltaV=mbp_energy2-mbp_energy1;;\n",
      "energy1 = state1_force1;\n",
      "energy2 = state2_force1;\n",
      "GlnBP uses the multiple basin potential.\n",
      "['True', 'ham', '2', '600', '-200', '0']\n",
      "(energy1+energy2+deltaV)/2 - sqrt(((energy1-energy2-deltaV)/2)^2+delta^2);deltaV=mbp_energy2-mbp_energy1;;\n",
      "energy1 = state1_force1;\n",
      "energy2 = state2_force1;\n",
      "GlnBP uses the multiple basin potential.\n",
      "['True', 'ham', '2', '600', '-200', '0']\n",
      "(energy1+energy2+deltaV)/2 - sqrt(((energy1-energy2-deltaV)/2)^2+delta^2);deltaV=mbp_energy2-mbp_energy1;;\n",
      "energy1 = state1_force1;\n",
      "energy2 = state2_force1;\n",
      "GlnBP uses the multiple basin potential.\n",
      "['True', 'ham', '2', '600', '-200', '0']\n",
      "(energy1+energy2+deltaV)/2 - sqrt(((energy1-energy2-deltaV)/2)^2+delta^2);deltaV=mbp_energy2-mbp_energy1;;\n",
      "energy1 = state1_force1;\n",
      "energy2 = state2_force1;\n",
      "GlnBP uses the multiple basin potential.\n",
      "['True', 'ham', '2', '600', '-200', '0']\n",
      "(energy1+energy2+deltaV)/2 - sqrt(((energy1-energy2-deltaV)/2)^2+delta^2);deltaV=mbp_energy2-mbp_energy1;;\n",
      "energy1 = state1_force1;\n",
      "energy2 = state2_force1;\n",
      "Hamiltonian mixing scheme for multiple baisn popential\n",
      "Parameters:  ['True', 'ham', '2', '600', '-200', '0']\n",
      "Energy Compare\n",
      "Absolute error: 3.63e-06\n",
      "Relative error: 3.31e-11\n",
      "Energies match!\n"
     ]
    },
    {
     "name": "stderr",
     "output_type": "stream",
     "text": [
      "/tmp/ipykernel_151181/3613186070.py:78: RuntimeWarning: invalid value encountered in divide\n",
      "  relative_force_error = np.linalg.norm(forces1 - forces2, axis=1) / average\n"
     ]
    },
    {
     "name": "stdout",
     "output_type": "stream",
     "text": [
      "###Forces Compare###\n",
      "Max absolute error: 6.71e-06\n",
      "Max relative error: 9.39e-07\n",
      "      Max allclose: -7.18e-04\n",
      "Forces match!\n",
      "GlnBP uses the multiple basin potential.\n",
      "['True', 'ham', '2', '600', '-200', '0']\n",
      "(energy1+energy2+deltaV)/2 - sqrt(((energy1-energy2-deltaV)/2)^2+delta^2);deltaV=mbp_energy2-mbp_energy1;;\n",
      "energy1 = state1_force1;\n",
      "energy2 = state2_force1;\n",
      "GlnBP uses the multiple basin potential.\n",
      "['True', 'ham', '2', '600', '-200', '0']GlnBP uses the multiple basin potential.\n",
      "['True', 'ham', '2', '600', '-200', '0']\n",
      "\n",
      "(energy1+energy2+deltaV)/2 - sqrt(((energy1-energy2-deltaV)/2)^2+delta^2);deltaV=mbp_energy2-mbp_energy1;;\n",
      "energy1 = state1_force1;\n",
      "energy2 = state2_force1;\n",
      "(energy1+energy2+deltaV)/2 - sqrt(((energy1-energy2-deltaV)/2)^2+delta^2);deltaV=mbp_energy2-mbp_energy1;;\n",
      "energy1 = state1_force1;\n",
      "energy2 = state2_force1;\n",
      "Hamiltonian mixing scheme for multiple baisn popential\n",
      "Parameters:  ['True', 'ham', '2', '600', '-200', '0']\n",
      "Energy Compare\n",
      "Absolute error: 3.42e-06\n",
      "Relative error: 3.12e-11\n",
      "Energies match!\n"
     ]
    },
    {
     "name": "stderr",
     "output_type": "stream",
     "text": [
      "/tmp/ipykernel_151181/3613186070.py:78: RuntimeWarning: invalid value encountered in divide\n",
      "  relative_force_error = np.linalg.norm(forces1 - forces2, axis=1) / average\n"
     ]
    },
    {
     "name": "stdout",
     "output_type": "stream",
     "text": [
      "###Forces Compare###\n",
      "Max absolute error: 5.21e-06Hamiltonian mixing scheme for multiple baisn popential\n",
      "Max relative error: 9.26e-07\n",
      "\n",
      "Parameters:        Max allclose: -5.67e-04\n",
      "['True', 'ham', '2', '600', '-200', '0']Forces match!\n",
      "\n",
      "Energy Compare\n",
      "Absolute error: 3.34e-06\n",
      "Relative error: 3.03e-11\n",
      "Energies match!\n"
     ]
    },
    {
     "name": "stderr",
     "output_type": "stream",
     "text": [
      "/tmp/ipykernel_151181/3613186070.py:78: RuntimeWarning: invalid value encountered in divide\n",
      "  relative_force_error = np.linalg.norm(forces1 - forces2, axis=1) / average\n"
     ]
    },
    {
     "name": "stdout",
     "output_type": "stream",
     "text": [
      "###Forces Compare###\n",
      "Max absolute error: 7.12e-06\n",
      "Max relative error: 1.05e-06\n",
      "      Max allclose: -6.78e-04\n",
      "Forces match!\n",
      "Hamiltonian mixing scheme for multiple baisn popentialHamiltonian mixing scheme for multiple baisn popential\n",
      "\n",
      "Parameters: Parameters:   ['True', 'ham', '2', '600', '-200', '0']['True', 'ham', '2', '600', '-200', '0']\n",
      "\n",
      "Energy Compare\n",
      "Energy CompareAbsolute error: 3.35e-06\n",
      "\n",
      "Absolute error: 3.23e-06Relative error: 3.05e-11\n",
      "\n",
      "Relative error: 2.94e-11Energies match!\n",
      "\n",
      "Energies match!\n"
     ]
    },
    {
     "name": "stderr",
     "output_type": "stream",
     "text": [
      "/tmp/ipykernel_151181/3613186070.py:78: RuntimeWarning: invalid value encountered in divide\n",
      "  relative_force_error = np.linalg.norm(forces1 - forces2, axis=1) / average\n",
      "/tmp/ipykernel_151181/3613186070.py:78: RuntimeWarning: invalid value encountered in divide\n",
      "  relative_force_error = np.linalg.norm(forces1 - forces2, axis=1) / average\n"
     ]
    },
    {
     "name": "stdout",
     "output_type": "stream",
     "text": [
      "###Forces Compare###\n",
      "###Forces Compare###Max absolute error: 2.27e-06\n",
      "\n",
      "Max absolute error: 2.54e-06Max relative error: 4.27e-07\n",
      "\n",
      "Max relative error: 3.60e-07      Max allclose: -5.38e-04\n",
      "\n",
      "      Max allclose: -7.14e-04Forces match!\n",
      "\n",
      "Forces match!\n",
      "Hamiltonian mixing scheme for multiple baisn popential\n",
      "Parameters:  ['True', 'ham', '2', '600', '-200', '0']\n",
      "Energy Compare\n",
      "Absolute error: 3.31e-06\n",
      "Relative error: 3.02e-11\n",
      "Energies match!\n"
     ]
    },
    {
     "name": "stderr",
     "output_type": "stream",
     "text": [
      "/tmp/ipykernel_151181/3613186070.py:78: RuntimeWarning: invalid value encountered in divide\n",
      "  relative_force_error = np.linalg.norm(forces1 - forces2, axis=1) / average\n"
     ]
    },
    {
     "name": "stdout",
     "output_type": "stream",
     "text": [
      "###Forces Compare###\n",
      "Max absolute error: 6.87e-06\n",
      "Max relative error: 1.57e-06\n",
      "      Max allclose: -4.41e-04\n",
      "Forces match!\n",
      "Hamiltonian mixing scheme for multiple baisn popential\n",
      "Parameters:  ['True', 'ham', '2', '600', '-200', '0']\n",
      "Energy Compare\n",
      "Absolute error: 2.99e-06\n",
      "Relative error: 2.71e-11\n",
      "Energies match!\n"
     ]
    },
    {
     "name": "stderr",
     "output_type": "stream",
     "text": [
      "/tmp/ipykernel_151181/3613186070.py:78: RuntimeWarning: invalid value encountered in divide\n",
      "  relative_force_error = np.linalg.norm(forces1 - forces2, axis=1) / average\n"
     ]
    },
    {
     "name": "stdout",
     "output_type": "stream",
     "text": [
      "###Forces Compare###\n",
      "Max absolute error: 5.31e-06\n",
      "Max relative error: 8.02e-07\n",
      "      Max allclose: -6.67e-04\n",
      "Forces match!\n",
      "Hamiltonian mixing scheme for multiple baisn popentialHamiltonian mixing scheme for multiple baisn popential\n",
      "\n",
      "Parameters: Parameters:   ['True', 'ham', '2', '600', '-200', '0']['True', 'ham', '2', '600', '-200', '0']\n",
      "\n",
      "Energy CompareEnergy Compare\n",
      "\n",
      "Absolute error: 3.45e-06Absolute error: 3.72e-06\n",
      "\n",
      "Relative error: 3.14e-11\n",
      "Relative error: 3.39e-11\n",
      "Energies match!Energies match!\n",
      "\n"
     ]
    },
    {
     "name": "stderr",
     "output_type": "stream",
     "text": [
      "/tmp/ipykernel_151181/3613186070.py:78: RuntimeWarning: invalid value encountered in divide\n",
      "  relative_force_error = np.linalg.norm(forces1 - forces2, axis=1) / average\n",
      "/tmp/ipykernel_151181/3613186070.py:78: RuntimeWarning: invalid value encountered in divide\n",
      "  relative_force_error = np.linalg.norm(forces1 - forces2, axis=1) / average\n"
     ]
    },
    {
     "name": "stdout",
     "output_type": "stream",
     "text": [
      "###Forces Compare######Forces Compare###\n",
      "\n",
      "Max absolute error: 4.09e-06Max absolute error: 4.49e-06\n",
      "\n",
      "Max relative error: 3.83e-07\n",
      "Max relative error: 1.38e-06      Max allclose: -1.07e-03\n",
      "\n",
      "Forces match!      Max allclose: -3.30e-04\n",
      "\n",
      "Forces match!\n",
      "Hamiltonian mixing scheme for multiple baisn popential\n",
      "Parameters:  ['True', 'ham', '2', '600', '-200', '0']\n",
      "Energy Compare\n",
      "Absolute error: 3.18e-06\n",
      "Relative error: 2.89e-11\n",
      "Energies match!\n"
     ]
    },
    {
     "name": "stderr",
     "output_type": "stream",
     "text": [
      "/tmp/ipykernel_151181/3613186070.py:78: RuntimeWarning: invalid value encountered in divide\n",
      "  relative_force_error = np.linalg.norm(forces1 - forces2, axis=1) / average\n"
     ]
    },
    {
     "name": "stdout",
     "output_type": "stream",
     "text": [
      "###Forces Compare###\n",
      "Max absolute error: 4.08e-06\n",
      "Max relative error: 7.50e-07\n",
      "      Max allclose: -5.49e-04\n",
      "Forces match!\n",
      "/home/ys/CommonUse/Martini/test/CTGoMartini/tests/api\n",
      "[['True', 'ham', '2', '100', '-900', '0']]\n",
      "/home/ys/CommonUse/Martini/test/CTGoMartini/tests/api/../data/MultipleBasinGoMartini_v2/GlnBP/Strfiles/GlnBP_No5.gro/home/ys/CommonUse/Martini/test/CTGoMartini/tests/api/../data/MultipleBasinGoMartini_v2/GlnBP/Strfiles/GlnBP_No8.gro/home/ys/CommonUse/Martini/test/CTGoMartini/tests/api/../data/MultipleBasinGoMartini_v2/GlnBP/Strfiles/GlnBP_No9.gro/home/ys/CommonUse/Martini/test/CTGoMartini/tests/api/../data/MultipleBasinGoMartini_v2/GlnBP/Strfiles/GlnBP_No1.gro/home/ys/CommonUse/Martini/test/CTGoMartini/tests/api/../data/MultipleBasinGoMartini_v2/GlnBP/Strfiles/GlnBP_No0.gro/home/ys/CommonUse/Martini/test/CTGoMartini/tests/api/../data/MultipleBasinGoMartini_v2/GlnBP/Strfiles/GlnBP_No2.gro/home/ys/CommonUse/Martini/test/CTGoMartini/tests/api/../data/MultipleBasinGoMartini_v2/GlnBP/Strfiles/GlnBP_No3.gro/home/ys/CommonUse/Martini/test/CTGoMartini/tests/api/../data/MultipleBasinGoMartini_v2/GlnBP/Strfiles/GlnBP_No4.gro/home/ys/CommonUse/Martini/test/CTGoMartini/tests/api/../data/MultipleBasinGoMartini_v2/GlnBP/Strfiles/GlnBP_No7.gro/home/ys/CommonUse/Martini/test/CTGoMartini/tests/api/../data/MultipleBasinGoMartini_v2/GlnBP/Strfiles/GlnBP_No6.gro\n",
      "\n",
      "\n",
      "\n",
      "\n",
      "\n",
      "\n",
      "\n",
      "\n",
      "\n",
      "GlnBP uses the multiple basin potential.\n",
      "['True', 'ham', '2', '100', '-900', '0']\n",
      "(energy1+energy2+deltaV)/2 - sqrt(((energy1-energy2-deltaV)/2)^2+delta^2);deltaV=mbp_energy2-mbp_energy1;;\n",
      "energy1 = state1_force1;\n",
      "energy2 = state2_force1;\n",
      "GlnBP uses the multiple basin potential.\n",
      "['True', 'ham', '2', '100', '-900', '0']\n",
      "(energy1+energy2+deltaV)/2 - sqrt(((energy1-energy2-deltaV)/2)^2+delta^2);deltaV=mbp_energy2-mbp_energy1;;\n",
      "energy1 = state1_force1;\n",
      "energy2 = state2_force1;\n",
      "GlnBP uses the multiple basin potential.\n",
      "['True', 'ham', '2', '100', '-900', '0']\n",
      "GlnBP uses the multiple basin potential.\n",
      "['True', 'ham', '2', '100', '-900', '0']GlnBP uses the multiple basin potential.\n",
      "['True', 'ham', '2', '100', '-900', '0']\n",
      "\n",
      "(energy1+energy2+deltaV)/2 - sqrt(((energy1-energy2-deltaV)/2)^2+delta^2);deltaV=mbp_energy2-mbp_energy1;;\n",
      "energy1 = state1_force1;\n",
      "energy2 = state2_force1;\n",
      "(energy1+energy2+deltaV)/2 - sqrt(((energy1-energy2-deltaV)/2)^2+delta^2);deltaV=mbp_energy2-mbp_energy1;;\n",
      "energy1 = state1_force1;\n",
      "energy2 = state2_force1;\n",
      "(energy1+energy2+deltaV)/2 - sqrt(((energy1-energy2-deltaV)/2)^2+delta^2);deltaV=mbp_energy2-mbp_energy1;;\n",
      "energy1 = state1_force1;\n",
      "energy2 = state2_force1;\n",
      "GlnBP uses the multiple basin potential.\n",
      "['True', 'ham', '2', '100', '-900', '0']\n",
      "(energy1+energy2+deltaV)/2 - sqrt(((energy1-energy2-deltaV)/2)^2+delta^2);deltaV=mbp_energy2-mbp_energy1;;\n",
      "energy1 = state1_force1;\n",
      "energy2 = state2_force1;\n",
      "GlnBP uses the multiple basin potential.\n",
      "['True', 'ham', '2', '100', '-900', '0']GlnBP uses the multiple basin potential.\n",
      "['True', 'ham', '2', '100', '-900', '0']\n",
      "\n",
      "GlnBP uses the multiple basin potential.\n",
      "['True', 'ham', '2', '100', '-900', '0']\n",
      "GlnBP uses the multiple basin potential.\n",
      "['True', 'ham', '2', '100', '-900', '0']\n",
      "(energy1+energy2+deltaV)/2 - sqrt(((energy1-energy2-deltaV)/2)^2+delta^2);deltaV=mbp_energy2-mbp_energy1;;\n",
      "energy1 = state1_force1;\n",
      "energy2 = state2_force1;\n",
      "(energy1+energy2+deltaV)/2 - sqrt(((energy1-energy2-deltaV)/2)^2+delta^2);deltaV=mbp_energy2-mbp_energy1;;\n",
      "energy1 = state1_force1;\n",
      "energy2 = state2_force1;\n",
      "(energy1+energy2+deltaV)/2 - sqrt(((energy1-energy2-deltaV)/2)^2+delta^2);deltaV=mbp_energy2-mbp_energy1;;\n",
      "energy1 = state1_force1;\n",
      "energy2 = state2_force1;\n",
      "(energy1+energy2+deltaV)/2 - sqrt(((energy1-energy2-deltaV)/2)^2+delta^2);deltaV=mbp_energy2-mbp_energy1;;\n",
      "energy1 = state1_force1;\n",
      "energy2 = state2_force1;\n",
      "Hamiltonian mixing scheme for multiple baisn popential\n",
      "Parameters:  ['True', 'ham', '2', '100', '-900', '0']\n",
      "Energy Compare\n",
      "Absolute error: 2.97e-06\n",
      "Relative error: 2.70e-11\n",
      "Energies match!\n"
     ]
    },
    {
     "name": "stderr",
     "output_type": "stream",
     "text": [
      "/tmp/ipykernel_151181/3613186070.py:78: RuntimeWarning: invalid value encountered in divide\n",
      "  relative_force_error = np.linalg.norm(forces1 - forces2, axis=1) / average\n"
     ]
    },
    {
     "name": "stdout",
     "output_type": "stream",
     "text": [
      "###Forces Compare###\n",
      "Max absolute error: 5.31e-06\n",
      "Max relative error: 8.02e-07Hamiltonian mixing scheme for multiple baisn popential\n",
      "\n",
      "      Max allclose: -6.67e-04Parameters:  \n",
      "['True', 'ham', '2', '100', '-900', '0']Forces match!\n",
      "\n",
      "Energy Compare\n",
      "Absolute error: 3.48e-06\n",
      "Relative error: 3.18e-11\n",
      "Energies match!\n"
     ]
    },
    {
     "name": "stderr",
     "output_type": "stream",
     "text": [
      "/tmp/ipykernel_151181/3613186070.py:78: RuntimeWarning: invalid value encountered in divide\n",
      "  relative_force_error = np.linalg.norm(forces1 - forces2, axis=1) / average\n"
     ]
    },
    {
     "name": "stdout",
     "output_type": "stream",
     "text": [
      "###Forces Compare###\n",
      "Max absolute error: 5.21e-06\n",
      "Max relative error: 9.26e-07\n",
      "      Max allclose: -5.67e-04\n",
      "Forces match!\n",
      "Hamiltonian mixing scheme for multiple baisn popential\n",
      "Parameters:  ['True', 'ham', '2', '100', '-900', '0']\n",
      "Energy Compare\n",
      "Absolute error: 3.19e-06\n",
      "Relative error: 2.92e-11\n",
      "Energies match!\n"
     ]
    },
    {
     "name": "stderr",
     "output_type": "stream",
     "text": [
      "/tmp/ipykernel_151181/3613186070.py:78: RuntimeWarning: invalid value encountered in divide\n",
      "  relative_force_error = np.linalg.norm(forces1 - forces2, axis=1) / average\n"
     ]
    },
    {
     "name": "stdout",
     "output_type": "stream",
     "text": [
      "Hamiltonian mixing scheme for multiple baisn popential\n",
      "###Forces Compare###Parameters: \n",
      " Max absolute error: 2.54e-06['True', 'ham', '2', '100', '-900', '0']\n",
      "\n",
      "Max relative error: 3.60e-07Energy Compare\n",
      "\n",
      "      Max allclose: -7.14e-04Absolute error: 3.45e-06\n",
      "\n",
      "Relative error: 3.15e-11\n",
      "Forces match!Energies match!\n",
      "\n"
     ]
    },
    {
     "name": "stderr",
     "output_type": "stream",
     "text": [
      "/tmp/ipykernel_151181/3613186070.py:78: RuntimeWarning: invalid value encountered in divide\n",
      "  relative_force_error = np.linalg.norm(forces1 - forces2, axis=1) / average\n"
     ]
    },
    {
     "name": "stdout",
     "output_type": "stream",
     "text": [
      "###Forces Compare###\n",
      "Max absolute error: 2.27e-06\n",
      "Max relative error: 4.27e-07\n",
      "      Max allclose: -5.38e-04\n",
      "Forces match!\n",
      "Hamiltonian mixing scheme for multiple baisn popential\n",
      "Parameters:  ['True', 'ham', '2', '100', '-900', '0']\n",
      "Energy Compare\n",
      "Absolute error: 3.16e-06\n",
      "Relative error: 2.89e-11\n",
      "Energies match!\n"
     ]
    },
    {
     "name": "stderr",
     "output_type": "stream",
     "text": [
      "/tmp/ipykernel_151181/3613186070.py:78: RuntimeWarning: invalid value encountered in divide\n",
      "  relative_force_error = np.linalg.norm(forces1 - forces2, axis=1) / average\n"
     ]
    },
    {
     "name": "stdout",
     "output_type": "stream",
     "text": [
      "###Forces Compare###\n",
      "Max absolute error: 4.08e-06\n",
      "Max relative error: 7.50e-07\n",
      "      Max allclose: -5.49e-04\n",
      "Forces match!\n",
      "Hamiltonian mixing scheme for multiple baisn popential\n",
      "Parameters:  ['True', 'ham', '2', '100', '-900', '0']\n",
      "Energy Compare\n",
      "Absolute error: 3.42e-06\n",
      "Relative error: 3.14e-11\n",
      "Energies match!\n"
     ]
    },
    {
     "name": "stderr",
     "output_type": "stream",
     "text": [
      "/tmp/ipykernel_151181/3613186070.py:78: RuntimeWarning: invalid value encountered in divide\n",
      "  relative_force_error = np.linalg.norm(forces1 - forces2, axis=1) / average\n"
     ]
    },
    {
     "name": "stdout",
     "output_type": "stream",
     "text": [
      "###Forces Compare###\n",
      "Max absolute error: 6.87e-06\n",
      "Max relative error: 1.57e-06\n",
      "      Max allclose: -4.41e-04\n",
      "Forces match!\n",
      "Hamiltonian mixing scheme for multiple baisn popential\n",
      "Parameters:  ['True', 'ham', '2', '100', '-900', '0']\n",
      "Energy Compare\n",
      "Absolute error: 3.65e-06\n",
      "Relative error: 3.35e-11\n",
      "Energies match!\n"
     ]
    },
    {
     "name": "stderr",
     "output_type": "stream",
     "text": [
      "/tmp/ipykernel_151181/3613186070.py:78: RuntimeWarning: invalid value encountered in divide\n",
      "  relative_force_error = np.linalg.norm(forces1 - forces2, axis=1) / average\n"
     ]
    },
    {
     "name": "stdout",
     "output_type": "stream",
     "text": [
      "###Forces Compare###\n",
      "Max absolute error: 4.49e-06\n",
      "Max relative error: 1.38e-06\n",
      "      Max allclose: -3.30e-04\n",
      "Forces match!\n",
      "Hamiltonian mixing scheme for multiple baisn popential\n",
      "Parameters:  ['True', 'ham', '2', '100', '-900', '0']\n",
      "Energy Compare\n",
      "Absolute error: 3.31e-06\n",
      "Relative error: 3.03e-11\n",
      "Energies match!\n"
     ]
    },
    {
     "name": "stderr",
     "output_type": "stream",
     "text": [
      "/tmp/ipykernel_151181/3613186070.py:78: RuntimeWarning: invalid value encountered in divide\n",
      "  relative_force_error = np.linalg.norm(forces1 - forces2, axis=1) / average\n"
     ]
    },
    {
     "name": "stdout",
     "output_type": "stream",
     "text": [
      "###Forces Compare###\n",
      "Max absolute error: 4.09e-06\n",
      "Max relative error: 3.83e-07\n",
      "      Max allclose: -1.07e-03\n",
      "Forces match!\n",
      "Hamiltonian mixing scheme for multiple baisn popential\n",
      "Parameters:  ['True', 'ham', '2', '100', '-900', '0']\n",
      "Energy Compare\n",
      "Absolute error: 3.48e-06\n",
      "Relative error: 3.17e-11\n",
      "Energies match!\n"
     ]
    },
    {
     "name": "stderr",
     "output_type": "stream",
     "text": [
      "/tmp/ipykernel_151181/3613186070.py:78: RuntimeWarning: invalid value encountered in divide\n",
      "  relative_force_error = np.linalg.norm(forces1 - forces2, axis=1) / average\n"
     ]
    },
    {
     "name": "stdout",
     "output_type": "stream",
     "text": [
      "###Forces Compare###\n",
      "Max absolute error: 7.12e-06\n",
      "Max relative error: 1.05e-06\n",
      "      Max allclose: -6.78e-04\n",
      "Forces match!\n",
      "Hamiltonian mixing scheme for multiple baisn popential\n",
      "Parameters:  ['True', 'ham', '2', '100', '-900', '0']\n",
      "Energy Compare\n",
      "Absolute error: 3.63e-06\n",
      "Relative error: 3.31e-11\n",
      "Energies match!\n"
     ]
    },
    {
     "name": "stderr",
     "output_type": "stream",
     "text": [
      "/tmp/ipykernel_151181/3613186070.py:78: RuntimeWarning: invalid value encountered in divide\n",
      "  relative_force_error = np.linalg.norm(forces1 - forces2, axis=1) / average\n"
     ]
    },
    {
     "name": "stdout",
     "output_type": "stream",
     "text": [
      "###Forces Compare###\n",
      "Max absolute error: 6.71e-06\n",
      "Max relative error: 9.39e-07\n",
      "      Max allclose: -7.18e-04\n",
      "Forces match!\n"
     ]
    }
   ],
   "source": [
    "test.test_GlnBP_HAM()"
   ]
  }
 ],
 "metadata": {
  "kernelspec": {
   "display_name": "ys",
   "language": "python",
   "name": "python3"
  },
  "language_info": {
   "codemirror_mode": {
    "name": "ipython",
    "version": 3
   },
   "file_extension": ".py",
   "mimetype": "text/x-python",
   "name": "python",
   "nbconvert_exporter": "python",
   "pygments_lexer": "ipython3",
   "version": "3.8.19"
  }
 },
 "nbformat": 4,
 "nbformat_minor": 2
}
