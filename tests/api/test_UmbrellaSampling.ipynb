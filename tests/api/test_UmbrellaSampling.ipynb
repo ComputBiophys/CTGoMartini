{
 "cells": [
  {
   "cell_type": "code",
   "execution_count": 29,
   "metadata": {},
   "outputs": [],
   "source": [
    "import os\n",
    "import ctgomartini as ct\n",
    "from ctgomartini.api import MartiniTopology\n",
    "from function import *\n",
    "import subprocess"
   ]
  },
  {
   "cell_type": "code",
   "execution_count": 30,
   "metadata": {},
   "outputs": [],
   "source": [
    "working_dir = \"/home/ys/CommonUse/Martini/CTGoMartini/tests/data/UmbrellaSampling/GlnBP/\"\n",
    "os.chdir(working_dir)"
   ]
  },
  {
   "cell_type": "code",
   "execution_count": 31,
   "metadata": {},
   "outputs": [
    {
     "ename": "FileNotFoundError",
     "evalue": "[Errno 2] No such file or directory: 'minimized.gro'",
     "output_type": "error",
     "traceback": [
      "\u001b[0;31m---------------------------------------------------------------------------\u001b[0m",
      "\u001b[0;31mFileNotFoundError\u001b[0m                         Traceback (most recent call last)",
      "    \u001b[0;31m[... skipping hidden 1 frame]\u001b[0m\n",
      "\u001b[1;32m/home/ys/CommonUse/Martini/CTGoMartini/tests/api/test_UmbrellaSampling.ipynb Cell 3\u001b[0m line \u001b[0;36m1\n\u001b[1;32m      <a href='vscode-notebook-cell:/home/ys/CommonUse/Martini/CTGoMartini/tests/api/test_UmbrellaSampling.ipynb#X24sZmlsZQ%3D%3D?line=7'>8</a>\u001b[0m     \u001b[39mreturn\u001b[39;00m r\n\u001b[0;32m---> <a href='vscode-notebook-cell:/home/ys/CommonUse/Martini/CTGoMartini/tests/api/test_UmbrellaSampling.ipynb#X24sZmlsZQ%3D%3D?line=9'>10</a>\u001b[0m u \u001b[39m=\u001b[39m mda\u001b[39m.\u001b[39;49mUniverse(\u001b[39m'\u001b[39;49m\u001b[39mminimized.gro\u001b[39;49m\u001b[39m'\u001b[39;49m)\n\u001b[1;32m     <a href='vscode-notebook-cell:/home/ys/CommonUse/Martini/CTGoMartini/tests/api/test_UmbrellaSampling.ipynb#X24sZmlsZQ%3D%3D?line=10'>11</a>\u001b[0m Cal_Dist_from_atoms(u\u001b[39m.\u001b[39matoms[\u001b[39m130\u001b[39m\u001b[39m-\u001b[39m\u001b[39m1\u001b[39m], u\u001b[39m.\u001b[39matoms[\u001b[39m289\u001b[39m\u001b[39m-\u001b[39m\u001b[39m1\u001b[39m])\n",
      "File \u001b[0;32m~/anaconda3/envs/ys/lib/python3.8/site-packages/MDAnalysis/core/universe.py:346\u001b[0m, in \u001b[0;36mUniverse.__init__\u001b[0;34m(self, topology, all_coordinates, format, topology_format, transformations, guess_bonds, vdwradii, in_memory, in_memory_step, *coordinates, **kwargs)\u001b[0m\n\u001b[1;32m    345\u001b[0m     \u001b[39mself\u001b[39m\u001b[39m.\u001b[39mfilename \u001b[39m=\u001b[39m _check_file_like(topology)\n\u001b[0;32m--> 346\u001b[0m     topology \u001b[39m=\u001b[39m _topology_from_file_like(\u001b[39mself\u001b[39;49m\u001b[39m.\u001b[39;49mfilename,\n\u001b[1;32m    347\u001b[0m                                         topology_format\u001b[39m=\u001b[39;49mtopology_format,\n\u001b[1;32m    348\u001b[0m                                         \u001b[39m*\u001b[39;49m\u001b[39m*\u001b[39;49mkwargs)\n\u001b[1;32m    350\u001b[0m \u001b[39mif\u001b[39;00m topology \u001b[39mis\u001b[39;00m \u001b[39mnot\u001b[39;00m \u001b[39mNone\u001b[39;00m:\n",
      "File \u001b[0;32m~/anaconda3/envs/ys/lib/python3.8/site-packages/MDAnalysis/core/universe.py:118\u001b[0m, in \u001b[0;36m_topology_from_file_like\u001b[0;34m(topology_file, topology_format, **kwargs)\u001b[0m\n\u001b[1;32m    115\u001b[0m \u001b[39mif\u001b[39;00m (err\u001b[39m.\u001b[39merrno \u001b[39mis\u001b[39;00m \u001b[39mnot\u001b[39;00m \u001b[39mNone\u001b[39;00m \u001b[39mand\u001b[39;00m\n\u001b[1;32m    116\u001b[0m     errno\u001b[39m.\u001b[39merrorcode[err\u001b[39m.\u001b[39merrno] \u001b[39min\u001b[39;00m [\u001b[39m'\u001b[39m\u001b[39mENOENT\u001b[39m\u001b[39m'\u001b[39m, \u001b[39m'\u001b[39m\u001b[39mEACCES\u001b[39m\u001b[39m'\u001b[39m]):\n\u001b[1;32m    117\u001b[0m     \u001b[39m# Runs if the error is propagated due to no permission / file not found\u001b[39;00m\n\u001b[0;32m--> 118\u001b[0m     \u001b[39mraise\u001b[39;00m sys\u001b[39m.\u001b[39mexc_info()[\u001b[39m1\u001b[39m] \u001b[39mfrom\u001b[39;00m \u001b[39merr\u001b[39;00m\n\u001b[1;32m    119\u001b[0m \u001b[39melse\u001b[39;00m:\n\u001b[1;32m    120\u001b[0m     \u001b[39m# Runs when the parser fails\u001b[39;00m\n",
      "File \u001b[0;32m~/anaconda3/envs/ys/lib/python3.8/site-packages/MDAnalysis/core/universe.py:110\u001b[0m, in \u001b[0;36m_topology_from_file_like\u001b[0;34m(topology_file, topology_format, **kwargs)\u001b[0m\n\u001b[1;32m    109\u001b[0m     \u001b[39mwith\u001b[39;00m parser(topology_file) \u001b[39mas\u001b[39;00m p:\n\u001b[0;32m--> 110\u001b[0m         topology \u001b[39m=\u001b[39m p\u001b[39m.\u001b[39;49mparse(\u001b[39m*\u001b[39;49m\u001b[39m*\u001b[39;49mkwargs)\n\u001b[1;32m    111\u001b[0m \u001b[39mexcept\u001b[39;00m (\u001b[39mIOError\u001b[39;00m, \u001b[39mOSError\u001b[39;00m) \u001b[39mas\u001b[39;00m err:\n\u001b[1;32m    112\u001b[0m     \u001b[39m# There are 2 kinds of errors that might be raised here:\u001b[39;00m\n\u001b[1;32m    113\u001b[0m     \u001b[39m# one because the file isn't present\u001b[39;00m\n\u001b[1;32m    114\u001b[0m     \u001b[39m# or the permissions are bad, second when the parser fails\u001b[39;00m\n",
      "File \u001b[0;32m~/anaconda3/envs/ys/lib/python3.8/site-packages/MDAnalysis/topology/GROParser.py:84\u001b[0m, in \u001b[0;36mGROParser.parse\u001b[0;34m(self, **kwargs)\u001b[0m\n\u001b[1;32m     82\u001b[0m \u001b[39m# Gro has the following columns\u001b[39;00m\n\u001b[1;32m     83\u001b[0m \u001b[39m# resid, resname, name, index, (x,y,z)\u001b[39;00m\n\u001b[0;32m---> 84\u001b[0m \u001b[39mwith\u001b[39;00m openany(\u001b[39mself\u001b[39m\u001b[39m.\u001b[39mfilename) \u001b[39mas\u001b[39;00m inf:\n\u001b[1;32m     85\u001b[0m     \u001b[39mnext\u001b[39m(inf)\n",
      "File \u001b[0;32m~/anaconda3/envs/ys/lib/python3.8/contextlib.py:113\u001b[0m, in \u001b[0;36m_GeneratorContextManager.__enter__\u001b[0;34m(self)\u001b[0m\n\u001b[1;32m    112\u001b[0m \u001b[39mtry\u001b[39;00m:\n\u001b[0;32m--> 113\u001b[0m     \u001b[39mreturn\u001b[39;00m \u001b[39mnext\u001b[39;49m(\u001b[39mself\u001b[39;49m\u001b[39m.\u001b[39;49mgen)\n\u001b[1;32m    114\u001b[0m \u001b[39mexcept\u001b[39;00m \u001b[39mStopIteration\u001b[39;00m:\n",
      "File \u001b[0;32m~/anaconda3/envs/ys/lib/python3.8/site-packages/MDAnalysis/lib/util.py:318\u001b[0m, in \u001b[0;36mopenany\u001b[0;34m(datasource, mode, reset)\u001b[0m\n\u001b[1;32m    276\u001b[0m \u001b[39m\u001b[39m\u001b[39m\"\"\"Context manager for :func:`anyopen`.\u001b[39;00m\n\u001b[1;32m    277\u001b[0m \n\u001b[1;32m    278\u001b[0m \u001b[39mOpen the `datasource` and close it when the context of the :keyword:`with`\u001b[39;00m\n\u001b[0;32m   (...)\u001b[0m\n\u001b[1;32m    316\u001b[0m \u001b[39m:func:`anyopen`\u001b[39;00m\n\u001b[1;32m    317\u001b[0m \u001b[39m\"\"\"\u001b[39;00m\n\u001b[0;32m--> 318\u001b[0m stream \u001b[39m=\u001b[39m anyopen(datasource, mode\u001b[39m=\u001b[39;49mmode, reset\u001b[39m=\u001b[39;49mreset)\n\u001b[1;32m    319\u001b[0m \u001b[39mtry\u001b[39;00m:\n",
      "File \u001b[0;32m~/anaconda3/envs/ys/lib/python3.8/site-packages/MDAnalysis/lib/util.py:397\u001b[0m, in \u001b[0;36manyopen\u001b[0;34m(datasource, mode, reset)\u001b[0m\n\u001b[1;32m    396\u001b[0m openfunc \u001b[39m=\u001b[39m read_handlers[ext]\n\u001b[0;32m--> 397\u001b[0m stream \u001b[39m=\u001b[39m _get_stream(datasource, openfunc, mode\u001b[39m=\u001b[39;49mmode)\n\u001b[1;32m    398\u001b[0m \u001b[39mif\u001b[39;00m stream \u001b[39mis\u001b[39;00m \u001b[39mnot\u001b[39;00m \u001b[39mNone\u001b[39;00m:\n",
      "File \u001b[0;32m~/anaconda3/envs/ys/lib/python3.8/site-packages/MDAnalysis/lib/util.py:439\u001b[0m, in \u001b[0;36m_get_stream\u001b[0;34m(filename, openfunction, mode)\u001b[0m\n\u001b[1;32m    438\u001b[0m \u001b[39mif\u001b[39;00m errno\u001b[39m.\u001b[39merrorcode[err\u001b[39m.\u001b[39merrno] \u001b[39min\u001b[39;00m [\u001b[39m'\u001b[39m\u001b[39mENOENT\u001b[39m\u001b[39m'\u001b[39m, \u001b[39m'\u001b[39m\u001b[39mEACCES\u001b[39m\u001b[39m'\u001b[39m]:\n\u001b[0;32m--> 439\u001b[0m     \u001b[39mraise\u001b[39;00m sys\u001b[39m.\u001b[39mexc_info()[\u001b[39m1\u001b[39m] \u001b[39mfrom\u001b[39;00m \u001b[39merr\u001b[39;00m\n\u001b[1;32m    440\u001b[0m \u001b[39mreturn\u001b[39;00m \u001b[39mNone\u001b[39;00m\n",
      "File \u001b[0;32m~/anaconda3/envs/ys/lib/python3.8/site-packages/MDAnalysis/lib/util.py:433\u001b[0m, in \u001b[0;36m_get_stream\u001b[0;34m(filename, openfunction, mode)\u001b[0m\n\u001b[1;32m    432\u001b[0m \u001b[39mtry\u001b[39;00m:\n\u001b[0;32m--> 433\u001b[0m     stream \u001b[39m=\u001b[39m openfunction(filename, mode\u001b[39m=\u001b[39;49mmode)\n\u001b[1;32m    434\u001b[0m \u001b[39mexcept\u001b[39;00m (\u001b[39mIOError\u001b[39;00m, \u001b[39mOSError\u001b[39;00m) \u001b[39mas\u001b[39;00m err:\n\u001b[1;32m    435\u001b[0m     \u001b[39m# An exception might be raised due to two reasons, first the openfunction is unable to open the file, in this\u001b[39;00m\n\u001b[1;32m    436\u001b[0m     \u001b[39m# case we have to ignore the error and return None. Second is when openfunction can't open the file because\u001b[39;00m\n\u001b[1;32m    437\u001b[0m     \u001b[39m# either the file isn't there or the permissions don't allow access.\u001b[39;00m\n",
      "File \u001b[0;32m~/anaconda3/envs/ys/lib/python3.8/site-packages/MDAnalysis/lib/picklable_file_io.py:478\u001b[0m, in \u001b[0;36mbz2_pickle_open\u001b[0;34m(name, mode)\u001b[0m\n\u001b[1;32m    477\u001b[0m bz_mode \u001b[39m=\u001b[39m mode\u001b[39m.\u001b[39mreplace(\u001b[39m\"\u001b[39m\u001b[39mt\u001b[39m\u001b[39m\"\u001b[39m, \u001b[39m\"\u001b[39m\u001b[39m\"\u001b[39m)\n\u001b[0;32m--> 478\u001b[0m binary_file \u001b[39m=\u001b[39m BZ2Picklable(name, bz_mode)\n\u001b[1;32m    479\u001b[0m \u001b[39mif\u001b[39;00m \u001b[39m\"\u001b[39m\u001b[39mt\u001b[39m\u001b[39m\"\u001b[39m \u001b[39min\u001b[39;00m mode:\n",
      "File \u001b[0;32m~/anaconda3/envs/ys/lib/python3.8/site-packages/MDAnalysis/lib/picklable_file_io.py:266\u001b[0m, in \u001b[0;36mBZ2Picklable.__init__\u001b[0;34m(self, name, mode)\u001b[0m\n\u001b[1;32m    265\u001b[0m \u001b[39mself\u001b[39m\u001b[39m.\u001b[39m_bz_mode \u001b[39m=\u001b[39m mode\n\u001b[0;32m--> 266\u001b[0m \u001b[39msuper\u001b[39;49m()\u001b[39m.\u001b[39;49m\u001b[39m__init__\u001b[39;49m(name, mode)\n",
      "File \u001b[0;32m~/anaconda3/envs/ys/lib/python3.8/bz2.py:96\u001b[0m, in \u001b[0;36mBZ2File.__init__\u001b[0;34m(self, filename, mode, buffering, compresslevel)\u001b[0m\n\u001b[1;32m     95\u001b[0m \u001b[39mif\u001b[39;00m \u001b[39misinstance\u001b[39m(filename, (\u001b[39mstr\u001b[39m, \u001b[39mbytes\u001b[39m, os\u001b[39m.\u001b[39mPathLike)):\n\u001b[0;32m---> 96\u001b[0m     \u001b[39mself\u001b[39m\u001b[39m.\u001b[39m_fp \u001b[39m=\u001b[39m _builtin_open(filename, mode)\n\u001b[1;32m     97\u001b[0m     \u001b[39mself\u001b[39m\u001b[39m.\u001b[39m_closefp \u001b[39m=\u001b[39m \u001b[39mTrue\u001b[39;00m\n",
      "\u001b[0;31mFileNotFoundError\u001b[0m: [Errno 2] No such file or directory: 'minimized.gro'",
      "\nThe above exception was the direct cause of the following exception:\n",
      "\u001b[0;31mFileNotFoundError\u001b[0m                         Traceback (most recent call last)",
      "    \u001b[0;31m[... skipping hidden 1 frame]\u001b[0m\n",
      "\u001b[1;32m/home/ys/CommonUse/Martini/CTGoMartini/tests/api/test_UmbrellaSampling.ipynb Cell 3\u001b[0m line \u001b[0;36m1\n\u001b[1;32m      <a href='vscode-notebook-cell:/home/ys/CommonUse/Martini/CTGoMartini/tests/api/test_UmbrellaSampling.ipynb#X24sZmlsZQ%3D%3D?line=7'>8</a>\u001b[0m     \u001b[39mreturn\u001b[39;00m r\n\u001b[0;32m---> <a href='vscode-notebook-cell:/home/ys/CommonUse/Martini/CTGoMartini/tests/api/test_UmbrellaSampling.ipynb#X24sZmlsZQ%3D%3D?line=9'>10</a>\u001b[0m u \u001b[39m=\u001b[39m mda\u001b[39m.\u001b[39;49mUniverse(\u001b[39m'\u001b[39;49m\u001b[39mminimized.gro\u001b[39;49m\u001b[39m'\u001b[39;49m)\n\u001b[1;32m     <a href='vscode-notebook-cell:/home/ys/CommonUse/Martini/CTGoMartini/tests/api/test_UmbrellaSampling.ipynb#X24sZmlsZQ%3D%3D?line=10'>11</a>\u001b[0m Cal_Dist_from_atoms(u\u001b[39m.\u001b[39matoms[\u001b[39m130\u001b[39m\u001b[39m-\u001b[39m\u001b[39m1\u001b[39m], u\u001b[39m.\u001b[39matoms[\u001b[39m289\u001b[39m\u001b[39m-\u001b[39m\u001b[39m1\u001b[39m])\n",
      "File \u001b[0;32m~/anaconda3/envs/ys/lib/python3.8/site-packages/MDAnalysis/core/universe.py:346\u001b[0m, in \u001b[0;36mUniverse.__init__\u001b[0;34m(self, topology, all_coordinates, format, topology_format, transformations, guess_bonds, vdwradii, in_memory, in_memory_step, *coordinates, **kwargs)\u001b[0m\n\u001b[1;32m    345\u001b[0m     \u001b[39mself\u001b[39m\u001b[39m.\u001b[39mfilename \u001b[39m=\u001b[39m _check_file_like(topology)\n\u001b[0;32m--> 346\u001b[0m     topology \u001b[39m=\u001b[39m _topology_from_file_like(\u001b[39mself\u001b[39;49m\u001b[39m.\u001b[39;49mfilename,\n\u001b[1;32m    347\u001b[0m                                         topology_format\u001b[39m=\u001b[39;49mtopology_format,\n\u001b[1;32m    348\u001b[0m                                         \u001b[39m*\u001b[39;49m\u001b[39m*\u001b[39;49mkwargs)\n\u001b[1;32m    350\u001b[0m \u001b[39mif\u001b[39;00m topology \u001b[39mis\u001b[39;00m \u001b[39mnot\u001b[39;00m \u001b[39mNone\u001b[39;00m:\n",
      "File \u001b[0;32m~/anaconda3/envs/ys/lib/python3.8/site-packages/MDAnalysis/core/universe.py:118\u001b[0m, in \u001b[0;36m_topology_from_file_like\u001b[0;34m(topology_file, topology_format, **kwargs)\u001b[0m\n\u001b[1;32m    115\u001b[0m \u001b[39mif\u001b[39;00m (err\u001b[39m.\u001b[39merrno \u001b[39mis\u001b[39;00m \u001b[39mnot\u001b[39;00m \u001b[39mNone\u001b[39;00m \u001b[39mand\u001b[39;00m\n\u001b[1;32m    116\u001b[0m     errno\u001b[39m.\u001b[39merrorcode[err\u001b[39m.\u001b[39merrno] \u001b[39min\u001b[39;00m [\u001b[39m'\u001b[39m\u001b[39mENOENT\u001b[39m\u001b[39m'\u001b[39m, \u001b[39m'\u001b[39m\u001b[39mEACCES\u001b[39m\u001b[39m'\u001b[39m]):\n\u001b[1;32m    117\u001b[0m     \u001b[39m# Runs if the error is propagated due to no permission / file not found\u001b[39;00m\n\u001b[0;32m--> 118\u001b[0m     \u001b[39mraise\u001b[39;00m sys\u001b[39m.\u001b[39mexc_info()[\u001b[39m1\u001b[39m] \u001b[39mfrom\u001b[39;00m \u001b[39merr\u001b[39;00m\n\u001b[1;32m    119\u001b[0m \u001b[39melse\u001b[39;00m:\n\u001b[1;32m    120\u001b[0m     \u001b[39m# Runs when the parser fails\u001b[39;00m\n",
      "File \u001b[0;32m~/anaconda3/envs/ys/lib/python3.8/site-packages/MDAnalysis/core/universe.py:110\u001b[0m, in \u001b[0;36m_topology_from_file_like\u001b[0;34m(topology_file, topology_format, **kwargs)\u001b[0m\n\u001b[1;32m    109\u001b[0m     \u001b[39mwith\u001b[39;00m parser(topology_file) \u001b[39mas\u001b[39;00m p:\n\u001b[0;32m--> 110\u001b[0m         topology \u001b[39m=\u001b[39m p\u001b[39m.\u001b[39;49mparse(\u001b[39m*\u001b[39;49m\u001b[39m*\u001b[39;49mkwargs)\n\u001b[1;32m    111\u001b[0m \u001b[39mexcept\u001b[39;00m (\u001b[39mIOError\u001b[39;00m, \u001b[39mOSError\u001b[39;00m) \u001b[39mas\u001b[39;00m err:\n\u001b[1;32m    112\u001b[0m     \u001b[39m# There are 2 kinds of errors that might be raised here:\u001b[39;00m\n\u001b[1;32m    113\u001b[0m     \u001b[39m# one because the file isn't present\u001b[39;00m\n\u001b[1;32m    114\u001b[0m     \u001b[39m# or the permissions are bad, second when the parser fails\u001b[39;00m\n",
      "File \u001b[0;32m~/anaconda3/envs/ys/lib/python3.8/site-packages/MDAnalysis/topology/GROParser.py:84\u001b[0m, in \u001b[0;36mGROParser.parse\u001b[0;34m(self, **kwargs)\u001b[0m\n\u001b[1;32m     82\u001b[0m \u001b[39m# Gro has the following columns\u001b[39;00m\n\u001b[1;32m     83\u001b[0m \u001b[39m# resid, resname, name, index, (x,y,z)\u001b[39;00m\n\u001b[0;32m---> 84\u001b[0m \u001b[39mwith\u001b[39;00m openany(\u001b[39mself\u001b[39m\u001b[39m.\u001b[39mfilename) \u001b[39mas\u001b[39;00m inf:\n\u001b[1;32m     85\u001b[0m     \u001b[39mnext\u001b[39m(inf)\n",
      "File \u001b[0;32m~/anaconda3/envs/ys/lib/python3.8/contextlib.py:113\u001b[0m, in \u001b[0;36m_GeneratorContextManager.__enter__\u001b[0;34m(self)\u001b[0m\n\u001b[1;32m    112\u001b[0m \u001b[39mtry\u001b[39;00m:\n\u001b[0;32m--> 113\u001b[0m     \u001b[39mreturn\u001b[39;00m \u001b[39mnext\u001b[39;49m(\u001b[39mself\u001b[39;49m\u001b[39m.\u001b[39;49mgen)\n\u001b[1;32m    114\u001b[0m \u001b[39mexcept\u001b[39;00m \u001b[39mStopIteration\u001b[39;00m:\n",
      "File \u001b[0;32m~/anaconda3/envs/ys/lib/python3.8/site-packages/MDAnalysis/lib/util.py:318\u001b[0m, in \u001b[0;36mopenany\u001b[0;34m(datasource, mode, reset)\u001b[0m\n\u001b[1;32m    276\u001b[0m \u001b[39m\u001b[39m\u001b[39m\"\"\"Context manager for :func:`anyopen`.\u001b[39;00m\n\u001b[1;32m    277\u001b[0m \n\u001b[1;32m    278\u001b[0m \u001b[39mOpen the `datasource` and close it when the context of the :keyword:`with`\u001b[39;00m\n\u001b[0;32m   (...)\u001b[0m\n\u001b[1;32m    316\u001b[0m \u001b[39m:func:`anyopen`\u001b[39;00m\n\u001b[1;32m    317\u001b[0m \u001b[39m\"\"\"\u001b[39;00m\n\u001b[0;32m--> 318\u001b[0m stream \u001b[39m=\u001b[39m anyopen(datasource, mode\u001b[39m=\u001b[39;49mmode, reset\u001b[39m=\u001b[39;49mreset)\n\u001b[1;32m    319\u001b[0m \u001b[39mtry\u001b[39;00m:\n",
      "File \u001b[0;32m~/anaconda3/envs/ys/lib/python3.8/site-packages/MDAnalysis/lib/util.py:397\u001b[0m, in \u001b[0;36manyopen\u001b[0;34m(datasource, mode, reset)\u001b[0m\n\u001b[1;32m    396\u001b[0m openfunc \u001b[39m=\u001b[39m read_handlers[ext]\n\u001b[0;32m--> 397\u001b[0m stream \u001b[39m=\u001b[39m _get_stream(datasource, openfunc, mode\u001b[39m=\u001b[39;49mmode)\n\u001b[1;32m    398\u001b[0m \u001b[39mif\u001b[39;00m stream \u001b[39mis\u001b[39;00m \u001b[39mnot\u001b[39;00m \u001b[39mNone\u001b[39;00m:\n",
      "File \u001b[0;32m~/anaconda3/envs/ys/lib/python3.8/site-packages/MDAnalysis/lib/util.py:439\u001b[0m, in \u001b[0;36m_get_stream\u001b[0;34m(filename, openfunction, mode)\u001b[0m\n\u001b[1;32m    438\u001b[0m \u001b[39mif\u001b[39;00m errno\u001b[39m.\u001b[39merrorcode[err\u001b[39m.\u001b[39merrno] \u001b[39min\u001b[39;00m [\u001b[39m'\u001b[39m\u001b[39mENOENT\u001b[39m\u001b[39m'\u001b[39m, \u001b[39m'\u001b[39m\u001b[39mEACCES\u001b[39m\u001b[39m'\u001b[39m]:\n\u001b[0;32m--> 439\u001b[0m     \u001b[39mraise\u001b[39;00m sys\u001b[39m.\u001b[39mexc_info()[\u001b[39m1\u001b[39m] \u001b[39mfrom\u001b[39;00m \u001b[39merr\u001b[39;00m\n\u001b[1;32m    440\u001b[0m \u001b[39mreturn\u001b[39;00m \u001b[39mNone\u001b[39;00m\n",
      "File \u001b[0;32m~/anaconda3/envs/ys/lib/python3.8/site-packages/MDAnalysis/lib/util.py:433\u001b[0m, in \u001b[0;36m_get_stream\u001b[0;34m(filename, openfunction, mode)\u001b[0m\n\u001b[1;32m    432\u001b[0m \u001b[39mtry\u001b[39;00m:\n\u001b[0;32m--> 433\u001b[0m     stream \u001b[39m=\u001b[39m openfunction(filename, mode\u001b[39m=\u001b[39;49mmode)\n\u001b[1;32m    434\u001b[0m \u001b[39mexcept\u001b[39;00m (\u001b[39mIOError\u001b[39;00m, \u001b[39mOSError\u001b[39;00m) \u001b[39mas\u001b[39;00m err:\n\u001b[1;32m    435\u001b[0m     \u001b[39m# An exception might be raised due to two reasons, first the openfunction is unable to open the file, in this\u001b[39;00m\n\u001b[1;32m    436\u001b[0m     \u001b[39m# case we have to ignore the error and return None. Second is when openfunction can't open the file because\u001b[39;00m\n\u001b[1;32m    437\u001b[0m     \u001b[39m# either the file isn't there or the permissions don't allow access.\u001b[39;00m\n",
      "File \u001b[0;32m~/anaconda3/envs/ys/lib/python3.8/site-packages/MDAnalysis/lib/picklable_file_io.py:478\u001b[0m, in \u001b[0;36mbz2_pickle_open\u001b[0;34m(name, mode)\u001b[0m\n\u001b[1;32m    477\u001b[0m bz_mode \u001b[39m=\u001b[39m mode\u001b[39m.\u001b[39mreplace(\u001b[39m\"\u001b[39m\u001b[39mt\u001b[39m\u001b[39m\"\u001b[39m, \u001b[39m\"\u001b[39m\u001b[39m\"\u001b[39m)\n\u001b[0;32m--> 478\u001b[0m binary_file \u001b[39m=\u001b[39m BZ2Picklable(name, bz_mode)\n\u001b[1;32m    479\u001b[0m \u001b[39mif\u001b[39;00m \u001b[39m\"\u001b[39m\u001b[39mt\u001b[39m\u001b[39m\"\u001b[39m \u001b[39min\u001b[39;00m mode:\n",
      "File \u001b[0;32m~/anaconda3/envs/ys/lib/python3.8/site-packages/MDAnalysis/lib/picklable_file_io.py:266\u001b[0m, in \u001b[0;36mBZ2Picklable.__init__\u001b[0;34m(self, name, mode)\u001b[0m\n\u001b[1;32m    265\u001b[0m \u001b[39mself\u001b[39m\u001b[39m.\u001b[39m_bz_mode \u001b[39m=\u001b[39m mode\n\u001b[0;32m--> 266\u001b[0m \u001b[39msuper\u001b[39;49m()\u001b[39m.\u001b[39;49m\u001b[39m__init__\u001b[39;49m(name, mode)\n",
      "File \u001b[0;32m~/anaconda3/envs/ys/lib/python3.8/bz2.py:96\u001b[0m, in \u001b[0;36mBZ2File.__init__\u001b[0;34m(self, filename, mode, buffering, compresslevel)\u001b[0m\n\u001b[1;32m     95\u001b[0m \u001b[39mif\u001b[39;00m \u001b[39misinstance\u001b[39m(filename, (\u001b[39mstr\u001b[39m, \u001b[39mbytes\u001b[39m, os\u001b[39m.\u001b[39mPathLike)):\n\u001b[0;32m---> 96\u001b[0m     \u001b[39mself\u001b[39m\u001b[39m.\u001b[39m_fp \u001b[39m=\u001b[39m _builtin_open(filename, mode)\n\u001b[1;32m     97\u001b[0m     \u001b[39mself\u001b[39m\u001b[39m.\u001b[39m_closefp \u001b[39m=\u001b[39m \u001b[39mTrue\u001b[39;00m\n",
      "\u001b[0;31mFileNotFoundError\u001b[0m: [Errno 2] No such file or directory: 'minimized.gro'",
      "\nThe above exception was the direct cause of the following exception:\n",
      "\u001b[0;31mFileNotFoundError\u001b[0m                         Traceback (most recent call last)",
      "\u001b[1;32m/home/ys/CommonUse/Martini/CTGoMartini/tests/api/test_UmbrellaSampling.ipynb Cell 3\u001b[0m line \u001b[0;36m1\n\u001b[1;32m      <a href='vscode-notebook-cell:/home/ys/CommonUse/Martini/CTGoMartini/tests/api/test_UmbrellaSampling.ipynb#X24sZmlsZQ%3D%3D?line=6'>7</a>\u001b[0m     r\u001b[39m=\u001b[39mDistance(p1,p2)\n\u001b[1;32m      <a href='vscode-notebook-cell:/home/ys/CommonUse/Martini/CTGoMartini/tests/api/test_UmbrellaSampling.ipynb#X24sZmlsZQ%3D%3D?line=7'>8</a>\u001b[0m     \u001b[39mreturn\u001b[39;00m r\n\u001b[0;32m---> <a href='vscode-notebook-cell:/home/ys/CommonUse/Martini/CTGoMartini/tests/api/test_UmbrellaSampling.ipynb#X24sZmlsZQ%3D%3D?line=9'>10</a>\u001b[0m u \u001b[39m=\u001b[39m mda\u001b[39m.\u001b[39;49mUniverse(\u001b[39m'\u001b[39;49m\u001b[39mminimized.gro\u001b[39;49m\u001b[39m'\u001b[39;49m)\n\u001b[1;32m     <a href='vscode-notebook-cell:/home/ys/CommonUse/Martini/CTGoMartini/tests/api/test_UmbrellaSampling.ipynb#X24sZmlsZQ%3D%3D?line=10'>11</a>\u001b[0m Cal_Dist_from_atoms(u\u001b[39m.\u001b[39matoms[\u001b[39m130\u001b[39m\u001b[39m-\u001b[39m\u001b[39m1\u001b[39m], u\u001b[39m.\u001b[39matoms[\u001b[39m289\u001b[39m\u001b[39m-\u001b[39m\u001b[39m1\u001b[39m])\n",
      "File \u001b[0;32m~/anaconda3/envs/ys/lib/python3.8/site-packages/MDAnalysis/core/universe.py:346\u001b[0m, in \u001b[0;36mUniverse.__init__\u001b[0;34m(self, topology, all_coordinates, format, topology_format, transformations, guess_bonds, vdwradii, in_memory, in_memory_step, *coordinates, **kwargs)\u001b[0m\n\u001b[1;32m    344\u001b[0m \u001b[39mif\u001b[39;00m \u001b[39mnot\u001b[39;00m \u001b[39misinstance\u001b[39m(topology, Topology) \u001b[39mand\u001b[39;00m \u001b[39mnot\u001b[39;00m topology \u001b[39mis\u001b[39;00m \u001b[39mNone\u001b[39;00m:\n\u001b[1;32m    345\u001b[0m     \u001b[39mself\u001b[39m\u001b[39m.\u001b[39mfilename \u001b[39m=\u001b[39m _check_file_like(topology)\n\u001b[0;32m--> 346\u001b[0m     topology \u001b[39m=\u001b[39m _topology_from_file_like(\u001b[39mself\u001b[39;49m\u001b[39m.\u001b[39;49mfilename,\n\u001b[1;32m    347\u001b[0m                                         topology_format\u001b[39m=\u001b[39;49mtopology_format,\n\u001b[1;32m    348\u001b[0m                                         \u001b[39m*\u001b[39;49m\u001b[39m*\u001b[39;49mkwargs)\n\u001b[1;32m    350\u001b[0m \u001b[39mif\u001b[39;00m topology \u001b[39mis\u001b[39;00m \u001b[39mnot\u001b[39;00m \u001b[39mNone\u001b[39;00m:\n\u001b[1;32m    351\u001b[0m     \u001b[39mself\u001b[39m\u001b[39m.\u001b[39m_topology \u001b[39m=\u001b[39m topology\n",
      "File \u001b[0;32m~/anaconda3/envs/ys/lib/python3.8/site-packages/MDAnalysis/core/universe.py:118\u001b[0m, in \u001b[0;36m_topology_from_file_like\u001b[0;34m(topology_file, topology_format, **kwargs)\u001b[0m\n\u001b[1;32m    111\u001b[0m \u001b[39mexcept\u001b[39;00m (\u001b[39mIOError\u001b[39;00m, \u001b[39mOSError\u001b[39;00m) \u001b[39mas\u001b[39;00m err:\n\u001b[1;32m    112\u001b[0m     \u001b[39m# There are 2 kinds of errors that might be raised here:\u001b[39;00m\n\u001b[1;32m    113\u001b[0m     \u001b[39m# one because the file isn't present\u001b[39;00m\n\u001b[1;32m    114\u001b[0m     \u001b[39m# or the permissions are bad, second when the parser fails\u001b[39;00m\n\u001b[1;32m    115\u001b[0m     \u001b[39mif\u001b[39;00m (err\u001b[39m.\u001b[39merrno \u001b[39mis\u001b[39;00m \u001b[39mnot\u001b[39;00m \u001b[39mNone\u001b[39;00m \u001b[39mand\u001b[39;00m\n\u001b[1;32m    116\u001b[0m         errno\u001b[39m.\u001b[39merrorcode[err\u001b[39m.\u001b[39merrno] \u001b[39min\u001b[39;00m [\u001b[39m'\u001b[39m\u001b[39mENOENT\u001b[39m\u001b[39m'\u001b[39m, \u001b[39m'\u001b[39m\u001b[39mEACCES\u001b[39m\u001b[39m'\u001b[39m]):\n\u001b[1;32m    117\u001b[0m         \u001b[39m# Runs if the error is propagated due to no permission / file not found\u001b[39;00m\n\u001b[0;32m--> 118\u001b[0m         \u001b[39mraise\u001b[39;00m sys\u001b[39m.\u001b[39mexc_info()[\u001b[39m1\u001b[39m] \u001b[39mfrom\u001b[39;00m \u001b[39merr\u001b[39;00m\n\u001b[1;32m    119\u001b[0m     \u001b[39melse\u001b[39;00m:\n\u001b[1;32m    120\u001b[0m         \u001b[39m# Runs when the parser fails\u001b[39;00m\n\u001b[1;32m    121\u001b[0m         \u001b[39mraise\u001b[39;00m \u001b[39mIOError\u001b[39;00m(\u001b[39m\"\u001b[39m\u001b[39mFailed to load from the topology file \u001b[39m\u001b[39m{0}\u001b[39;00m\u001b[39m\"\u001b[39m\n\u001b[1;32m    122\u001b[0m                         \u001b[39m\"\u001b[39m\u001b[39m with parser \u001b[39m\u001b[39m{1}\u001b[39;00m\u001b[39m.\u001b[39m\u001b[39m\\n\u001b[39;00m\u001b[39m\"\u001b[39m\n\u001b[1;32m    123\u001b[0m                         \u001b[39m\"\u001b[39m\u001b[39mError: \u001b[39m\u001b[39m{2}\u001b[39;00m\u001b[39m\"\u001b[39m\u001b[39m.\u001b[39mformat(topology_file, parser, err))\n",
      "File \u001b[0;32m~/anaconda3/envs/ys/lib/python3.8/site-packages/MDAnalysis/core/universe.py:110\u001b[0m, in \u001b[0;36m_topology_from_file_like\u001b[0;34m(topology_file, topology_format, **kwargs)\u001b[0m\n\u001b[1;32m    108\u001b[0m \u001b[39mtry\u001b[39;00m:\n\u001b[1;32m    109\u001b[0m     \u001b[39mwith\u001b[39;00m parser(topology_file) \u001b[39mas\u001b[39;00m p:\n\u001b[0;32m--> 110\u001b[0m         topology \u001b[39m=\u001b[39m p\u001b[39m.\u001b[39;49mparse(\u001b[39m*\u001b[39;49m\u001b[39m*\u001b[39;49mkwargs)\n\u001b[1;32m    111\u001b[0m \u001b[39mexcept\u001b[39;00m (\u001b[39mIOError\u001b[39;00m, \u001b[39mOSError\u001b[39;00m) \u001b[39mas\u001b[39;00m err:\n\u001b[1;32m    112\u001b[0m     \u001b[39m# There are 2 kinds of errors that might be raised here:\u001b[39;00m\n\u001b[1;32m    113\u001b[0m     \u001b[39m# one because the file isn't present\u001b[39;00m\n\u001b[1;32m    114\u001b[0m     \u001b[39m# or the permissions are bad, second when the parser fails\u001b[39;00m\n\u001b[1;32m    115\u001b[0m     \u001b[39mif\u001b[39;00m (err\u001b[39m.\u001b[39merrno \u001b[39mis\u001b[39;00m \u001b[39mnot\u001b[39;00m \u001b[39mNone\u001b[39;00m \u001b[39mand\u001b[39;00m\n\u001b[1;32m    116\u001b[0m         errno\u001b[39m.\u001b[39merrorcode[err\u001b[39m.\u001b[39merrno] \u001b[39min\u001b[39;00m [\u001b[39m'\u001b[39m\u001b[39mENOENT\u001b[39m\u001b[39m'\u001b[39m, \u001b[39m'\u001b[39m\u001b[39mEACCES\u001b[39m\u001b[39m'\u001b[39m]):\n\u001b[1;32m    117\u001b[0m         \u001b[39m# Runs if the error is propagated due to no permission / file not found\u001b[39;00m\n",
      "File \u001b[0;32m~/anaconda3/envs/ys/lib/python3.8/site-packages/MDAnalysis/topology/GROParser.py:84\u001b[0m, in \u001b[0;36mGROParser.parse\u001b[0;34m(self, **kwargs)\u001b[0m\n\u001b[1;32m     81\u001b[0m \u001b[39m\u001b[39m\u001b[39m\"\"\"Return the *Topology* object for this file\"\"\"\u001b[39;00m\n\u001b[1;32m     82\u001b[0m \u001b[39m# Gro has the following columns\u001b[39;00m\n\u001b[1;32m     83\u001b[0m \u001b[39m# resid, resname, name, index, (x,y,z)\u001b[39;00m\n\u001b[0;32m---> 84\u001b[0m \u001b[39mwith\u001b[39;00m openany(\u001b[39mself\u001b[39m\u001b[39m.\u001b[39mfilename) \u001b[39mas\u001b[39;00m inf:\n\u001b[1;32m     85\u001b[0m     \u001b[39mnext\u001b[39m(inf)\n\u001b[1;32m     86\u001b[0m     n_atoms \u001b[39m=\u001b[39m \u001b[39mint\u001b[39m(\u001b[39mnext\u001b[39m(inf))\n",
      "File \u001b[0;32m~/anaconda3/envs/ys/lib/python3.8/contextlib.py:113\u001b[0m, in \u001b[0;36m_GeneratorContextManager.__enter__\u001b[0;34m(self)\u001b[0m\n\u001b[1;32m    111\u001b[0m \u001b[39mdel\u001b[39;00m \u001b[39mself\u001b[39m\u001b[39m.\u001b[39margs, \u001b[39mself\u001b[39m\u001b[39m.\u001b[39mkwds, \u001b[39mself\u001b[39m\u001b[39m.\u001b[39mfunc\n\u001b[1;32m    112\u001b[0m \u001b[39mtry\u001b[39;00m:\n\u001b[0;32m--> 113\u001b[0m     \u001b[39mreturn\u001b[39;00m \u001b[39mnext\u001b[39;49m(\u001b[39mself\u001b[39;49m\u001b[39m.\u001b[39;49mgen)\n\u001b[1;32m    114\u001b[0m \u001b[39mexcept\u001b[39;00m \u001b[39mStopIteration\u001b[39;00m:\n\u001b[1;32m    115\u001b[0m     \u001b[39mraise\u001b[39;00m \u001b[39mRuntimeError\u001b[39;00m(\u001b[39m\"\u001b[39m\u001b[39mgenerator didn\u001b[39m\u001b[39m'\u001b[39m\u001b[39mt yield\u001b[39m\u001b[39m\"\u001b[39m) \u001b[39mfrom\u001b[39;00m \u001b[39mNone\u001b[39;00m\n",
      "File \u001b[0;32m~/anaconda3/envs/ys/lib/python3.8/site-packages/MDAnalysis/lib/util.py:318\u001b[0m, in \u001b[0;36mopenany\u001b[0;34m(datasource, mode, reset)\u001b[0m\n\u001b[1;32m    274\u001b[0m \u001b[39m@contextmanager\u001b[39m\n\u001b[1;32m    275\u001b[0m \u001b[39mdef\u001b[39;00m \u001b[39mopenany\u001b[39m(datasource, mode\u001b[39m=\u001b[39m\u001b[39m'\u001b[39m\u001b[39mrt\u001b[39m\u001b[39m'\u001b[39m, reset\u001b[39m=\u001b[39m\u001b[39mTrue\u001b[39;00m):\n\u001b[1;32m    276\u001b[0m \u001b[39m    \u001b[39m\u001b[39m\"\"\"Context manager for :func:`anyopen`.\u001b[39;00m\n\u001b[1;32m    277\u001b[0m \n\u001b[1;32m    278\u001b[0m \u001b[39m    Open the `datasource` and close it when the context of the :keyword:`with`\u001b[39;00m\n\u001b[0;32m   (...)\u001b[0m\n\u001b[1;32m    316\u001b[0m \u001b[39m    :func:`anyopen`\u001b[39;00m\n\u001b[1;32m    317\u001b[0m \u001b[39m    \"\"\"\u001b[39;00m\n\u001b[0;32m--> 318\u001b[0m     stream \u001b[39m=\u001b[39m anyopen(datasource, mode\u001b[39m=\u001b[39;49mmode, reset\u001b[39m=\u001b[39;49mreset)\n\u001b[1;32m    319\u001b[0m     \u001b[39mtry\u001b[39;00m:\n\u001b[1;32m    320\u001b[0m         \u001b[39myield\u001b[39;00m stream\n",
      "File \u001b[0;32m~/anaconda3/envs/ys/lib/python3.8/site-packages/MDAnalysis/lib/util.py:397\u001b[0m, in \u001b[0;36manyopen\u001b[0;34m(datasource, mode, reset)\u001b[0m\n\u001b[1;32m    395\u001b[0m \u001b[39mfor\u001b[39;00m ext \u001b[39min\u001b[39;00m (\u001b[39m'\u001b[39m\u001b[39mbz2\u001b[39m\u001b[39m'\u001b[39m, \u001b[39m'\u001b[39m\u001b[39mgz\u001b[39m\u001b[39m'\u001b[39m, \u001b[39m'\u001b[39m\u001b[39m'\u001b[39m):  \u001b[39m# file == '' should be last\u001b[39;00m\n\u001b[1;32m    396\u001b[0m     openfunc \u001b[39m=\u001b[39m read_handlers[ext]\n\u001b[0;32m--> 397\u001b[0m     stream \u001b[39m=\u001b[39m _get_stream(datasource, openfunc, mode\u001b[39m=\u001b[39;49mmode)\n\u001b[1;32m    398\u001b[0m     \u001b[39mif\u001b[39;00m stream \u001b[39mis\u001b[39;00m \u001b[39mnot\u001b[39;00m \u001b[39mNone\u001b[39;00m:\n\u001b[1;32m    399\u001b[0m         \u001b[39mbreak\u001b[39;00m\n",
      "File \u001b[0;32m~/anaconda3/envs/ys/lib/python3.8/site-packages/MDAnalysis/lib/util.py:439\u001b[0m, in \u001b[0;36m_get_stream\u001b[0;34m(filename, openfunction, mode)\u001b[0m\n\u001b[1;32m    434\u001b[0m \u001b[39mexcept\u001b[39;00m (\u001b[39mIOError\u001b[39;00m, \u001b[39mOSError\u001b[39;00m) \u001b[39mas\u001b[39;00m err:\n\u001b[1;32m    435\u001b[0m     \u001b[39m# An exception might be raised due to two reasons, first the openfunction is unable to open the file, in this\u001b[39;00m\n\u001b[1;32m    436\u001b[0m     \u001b[39m# case we have to ignore the error and return None. Second is when openfunction can't open the file because\u001b[39;00m\n\u001b[1;32m    437\u001b[0m     \u001b[39m# either the file isn't there or the permissions don't allow access.\u001b[39;00m\n\u001b[1;32m    438\u001b[0m     \u001b[39mif\u001b[39;00m errno\u001b[39m.\u001b[39merrorcode[err\u001b[39m.\u001b[39merrno] \u001b[39min\u001b[39;00m [\u001b[39m'\u001b[39m\u001b[39mENOENT\u001b[39m\u001b[39m'\u001b[39m, \u001b[39m'\u001b[39m\u001b[39mEACCES\u001b[39m\u001b[39m'\u001b[39m]:\n\u001b[0;32m--> 439\u001b[0m         \u001b[39mraise\u001b[39;00m sys\u001b[39m.\u001b[39mexc_info()[\u001b[39m1\u001b[39m] \u001b[39mfrom\u001b[39;00m \u001b[39merr\u001b[39;00m\n\u001b[1;32m    440\u001b[0m     \u001b[39mreturn\u001b[39;00m \u001b[39mNone\u001b[39;00m\n\u001b[1;32m    441\u001b[0m \u001b[39mif\u001b[39;00m mode\u001b[39m.\u001b[39mstartswith(\u001b[39m'\u001b[39m\u001b[39mr\u001b[39m\u001b[39m'\u001b[39m):\n\u001b[1;32m    442\u001b[0m     \u001b[39m# additional check for reading (eg can we uncompress) --- is this needed?\u001b[39;00m\n",
      "File \u001b[0;32m~/anaconda3/envs/ys/lib/python3.8/site-packages/MDAnalysis/lib/util.py:433\u001b[0m, in \u001b[0;36m_get_stream\u001b[0;34m(filename, openfunction, mode)\u001b[0m\n\u001b[1;32m    431\u001b[0m \u001b[39m\u001b[39m\u001b[39m\"\"\"Return open stream if *filename* can be opened with *openfunction* or else ``None``.\"\"\"\u001b[39;00m\n\u001b[1;32m    432\u001b[0m \u001b[39mtry\u001b[39;00m:\n\u001b[0;32m--> 433\u001b[0m     stream \u001b[39m=\u001b[39m openfunction(filename, mode\u001b[39m=\u001b[39;49mmode)\n\u001b[1;32m    434\u001b[0m \u001b[39mexcept\u001b[39;00m (\u001b[39mIOError\u001b[39;00m, \u001b[39mOSError\u001b[39;00m) \u001b[39mas\u001b[39;00m err:\n\u001b[1;32m    435\u001b[0m     \u001b[39m# An exception might be raised due to two reasons, first the openfunction is unable to open the file, in this\u001b[39;00m\n\u001b[1;32m    436\u001b[0m     \u001b[39m# case we have to ignore the error and return None. Second is when openfunction can't open the file because\u001b[39;00m\n\u001b[1;32m    437\u001b[0m     \u001b[39m# either the file isn't there or the permissions don't allow access.\u001b[39;00m\n\u001b[1;32m    438\u001b[0m     \u001b[39mif\u001b[39;00m errno\u001b[39m.\u001b[39merrorcode[err\u001b[39m.\u001b[39merrno] \u001b[39min\u001b[39;00m [\u001b[39m'\u001b[39m\u001b[39mENOENT\u001b[39m\u001b[39m'\u001b[39m, \u001b[39m'\u001b[39m\u001b[39mEACCES\u001b[39m\u001b[39m'\u001b[39m]:\n",
      "File \u001b[0;32m~/anaconda3/envs/ys/lib/python3.8/site-packages/MDAnalysis/lib/picklable_file_io.py:478\u001b[0m, in \u001b[0;36mbz2_pickle_open\u001b[0;34m(name, mode)\u001b[0m\n\u001b[1;32m    475\u001b[0m     \u001b[39mraise\u001b[39;00m \u001b[39mValueError\u001b[39;00m(\u001b[39m\"\u001b[39m\u001b[39mOnly read mode (\u001b[39m\u001b[39m'\u001b[39m\u001b[39mr\u001b[39m\u001b[39m'\u001b[39m\u001b[39m, \u001b[39m\u001b[39m'\u001b[39m\u001b[39mrt\u001b[39m\u001b[39m'\u001b[39m\u001b[39m, \u001b[39m\u001b[39m'\u001b[39m\u001b[39mrb\u001b[39m\u001b[39m'\u001b[39m\u001b[39m) \u001b[39m\u001b[39m\"\u001b[39m\n\u001b[1;32m    476\u001b[0m                      \u001b[39m\"\u001b[39m\u001b[39mfiles can be pickled.\u001b[39m\u001b[39m\"\u001b[39m)\n\u001b[1;32m    477\u001b[0m bz_mode \u001b[39m=\u001b[39m mode\u001b[39m.\u001b[39mreplace(\u001b[39m\"\u001b[39m\u001b[39mt\u001b[39m\u001b[39m\"\u001b[39m, \u001b[39m\"\u001b[39m\u001b[39m\"\u001b[39m)\n\u001b[0;32m--> 478\u001b[0m binary_file \u001b[39m=\u001b[39m BZ2Picklable(name, bz_mode)\n\u001b[1;32m    479\u001b[0m \u001b[39mif\u001b[39;00m \u001b[39m\"\u001b[39m\u001b[39mt\u001b[39m\u001b[39m\"\u001b[39m \u001b[39min\u001b[39;00m mode:\n\u001b[1;32m    480\u001b[0m     \u001b[39mreturn\u001b[39;00m TextIOPicklable(binary_file)\n",
      "File \u001b[0;32m~/anaconda3/envs/ys/lib/python3.8/site-packages/MDAnalysis/lib/picklable_file_io.py:266\u001b[0m, in \u001b[0;36mBZ2Picklable.__init__\u001b[0;34m(self, name, mode)\u001b[0m\n\u001b[1;32m    264\u001b[0m \u001b[39mdef\u001b[39;00m \u001b[39m__init__\u001b[39m(\u001b[39mself\u001b[39m, name, mode\u001b[39m=\u001b[39m\u001b[39m'\u001b[39m\u001b[39mrb\u001b[39m\u001b[39m'\u001b[39m):\n\u001b[1;32m    265\u001b[0m     \u001b[39mself\u001b[39m\u001b[39m.\u001b[39m_bz_mode \u001b[39m=\u001b[39m mode\n\u001b[0;32m--> 266\u001b[0m     \u001b[39msuper\u001b[39;49m()\u001b[39m.\u001b[39;49m\u001b[39m__init__\u001b[39;49m(name, mode)\n",
      "File \u001b[0;32m~/anaconda3/envs/ys/lib/python3.8/bz2.py:96\u001b[0m, in \u001b[0;36mBZ2File.__init__\u001b[0;34m(self, filename, mode, buffering, compresslevel)\u001b[0m\n\u001b[1;32m     93\u001b[0m     \u001b[39mraise\u001b[39;00m \u001b[39mValueError\u001b[39;00m(\u001b[39m\"\u001b[39m\u001b[39mInvalid mode: \u001b[39m\u001b[39m%r\u001b[39;00m\u001b[39m\"\u001b[39m \u001b[39m%\u001b[39m (mode,))\n\u001b[1;32m     95\u001b[0m \u001b[39mif\u001b[39;00m \u001b[39misinstance\u001b[39m(filename, (\u001b[39mstr\u001b[39m, \u001b[39mbytes\u001b[39m, os\u001b[39m.\u001b[39mPathLike)):\n\u001b[0;32m---> 96\u001b[0m     \u001b[39mself\u001b[39m\u001b[39m.\u001b[39m_fp \u001b[39m=\u001b[39m _builtin_open(filename, mode)\n\u001b[1;32m     97\u001b[0m     \u001b[39mself\u001b[39m\u001b[39m.\u001b[39m_closefp \u001b[39m=\u001b[39m \u001b[39mTrue\u001b[39;00m\n\u001b[1;32m     98\u001b[0m     \u001b[39mself\u001b[39m\u001b[39m.\u001b[39m_mode \u001b[39m=\u001b[39m mode_code\n",
      "\u001b[0;31mFileNotFoundError\u001b[0m: [Errno 2] No such file or directory: 'minimized.gro'"
     ]
    }
   ],
   "source": [
    "def Distance(p1,p2):\n",
    "    return np.linalg.norm(p1-p2)\n",
    "\n",
    "def Cal_Dist_from_atoms(atom1, atom2):\n",
    "    p1=atom1.position/10\n",
    "    p2=atom2.position/10\n",
    "    r=Distance(p1,p2)\n",
    "    return r\n",
    "\n",
    "u = mda.Universe('minimized.gro')\n",
    "Cal_Dist_from_atoms(u.atoms[130-1], u.atoms[289-1])"
   ]
  },
  {
   "cell_type": "code",
   "execution_count": null,
   "metadata": {},
   "outputs": [],
   "source": [
    "def Compare_OMM_GMX(working_dir, epsilon_r=15.0):\n",
    "    print(working_dir)\n",
    "    os.chdir(os.path.join(working_dir, \"openmm\"))\n",
    "    strfile = \"md.gro\"\n",
    "    topfile = \"system.top\"\n",
    "\n",
    "    simulation = OMM_setSimulation(strfile, topfile, epsilon_r=epsilon_r, temperature=310.15, double_precision=True)\n",
    "    OMM_calStrfile(strfile, simulation, set_vsite=True)\n",
    "\n",
    "    omm_energy=Load_energy(clean=True)\n",
    "    omm_forces=Load_forces(clean=True)\n",
    "    print(omm_energy)\n",
    "    # gmx\n",
    "    os.chdir(os.path.join(working_dir, \"gmx\"))\n",
    "\n",
    "    # GMX_set(CreateMDP=False, double_precision=True)\n",
    "    GMX_run()\n",
    "\n",
    "    gmx_energy=Load_energy(clean=False)\n",
    "    gmx_forces=Load_forces(clean=False)\n",
    "    print(gmx_energy)\n",
    "    # Compare\n",
    "    print(\"########################################\")\n",
    "    result_energy=Compare_energy(omm_energy[:,1:], gmx_energy[:,1:], isPrint=True)\n",
    "    result_forces=Compare_forces(omm_forces[:,1:], gmx_forces[:,1:], isPrint=True)\n",
    "\n",
    "    return result_energy and result_forces"
   ]
  },
  {
   "cell_type": "code",
   "execution_count": 26,
   "metadata": {},
   "outputs": [
    {
     "name": "stdout",
     "output_type": "stream",
     "text": [
      "/home/ys/CommonUse/Martini/CTGoMartini/tests/data/UmbrellaSampling\n",
      "[[      0.         -238821.85051891]]\n",
      "[[      0.       -238820.420921]]\n",
      "########################################\n",
      "Energy Compare\n",
      "Absolute error: 1.42960\n",
      "Relative error: 0.00001\n",
      "Energies match!\n",
      "###Forces Compare###\n",
      "Max absolute error: 53.47141\n",
      "Max relative error: 0.39745\n",
      "      Max allclose: 53.45748\n",
      "Error: Forces do not match!\n"
     ]
    },
    {
     "data": {
      "text/plain": [
       "False"
      ]
     },
     "execution_count": 26,
     "metadata": {},
     "output_type": "execute_result"
    }
   ],
   "source": [
    "Compare_OMM_GMX(working_dir)"
   ]
  },
  {
   "cell_type": "code",
   "execution_count": 32,
   "metadata": {},
   "outputs": [
    {
     "name": "stdout",
     "output_type": "stream",
     "text": [
      "/home/ys/CommonUse/Martini/CTGoMartini/tests/data/UmbrellaSampling/GlnBP/\n",
      "[[      0.         -238820.42090518]]\n",
      "[[      0.       -238820.420921]]\n",
      "########################################\n",
      "Energy Compare\n",
      "Absolute error: 0.00002\n",
      "Relative error: 0.00000\n",
      "Energies match!\n",
      "###Forces Compare###\n",
      "Max absolute error: 0.00132\n",
      "Max relative error: 0.00001\n",
      "      Max allclose: -0.00001\n",
      "Forces match!\n"
     ]
    },
    {
     "name": "stderr",
     "output_type": "stream",
     "text": [
      "/home/ys/CommonUse/Martini/CTGoMartini/tests/api/function.py:311: RuntimeWarning: invalid value encountered in divide\n",
      "  relative_force_error = np.linalg.norm(forces1 - forces2, axis=1) / average\n"
     ]
    },
    {
     "data": {
      "text/plain": [
       "True"
      ]
     },
     "execution_count": 32,
     "metadata": {},
     "output_type": "execute_result"
    }
   ],
   "source": [
    "Compare_OMM_GMX(working_dir)"
   ]
  },
  {
   "cell_type": "code",
   "execution_count": 35,
   "metadata": {},
   "outputs": [],
   "source": [
    "def Compare_OMM_GMX(working_dir, epsilon_r=15.0):\n",
    "    print(working_dir)\n",
    "    os.chdir('/home/ys/SongYang/MultipleBasin/Work/ContactOpt/GlnBP/MBContact8-Umbrella/Validation/repeat-open-gmx-300_-310_0/Run/window_18_bk_openmm')\n",
    "    strfile = \"md18.gro\"\n",
    "    topfile = \"../../system.top\"\n",
    "\n",
    "    simulation = OMM_setSimulation(strfile, topfile, epsilon_r=epsilon_r, temperature=310.15, double_precision=True)\n",
    "    OMM_calStrfile(strfile, simulation, set_vsite=True)\n",
    "\n",
    "    omm_energy=Load_energy(clean=True)\n",
    "    omm_forces=Load_forces(clean=True)\n",
    "    print(omm_energy)\n",
    "    # gmx\n",
    "    os.chdir('/home/ys/SongYang/MultipleBasin/Work/ContactOpt/GlnBP/MBContact8-Umbrella/Validation/repeat-open-gmx-300_-310_0/Run/window_18_bk')\n",
    "\n",
    "    # GMX_set(CreateMDP=False, double_precision=True)\n",
    "    GMX_run()\n",
    "\n",
    "    gmx_energy=Load_energy(clean=False)\n",
    "    gmx_forces=Load_forces(clean=False)\n",
    "    print(gmx_energy)\n",
    "    # Compare\n",
    "    print(\"########################################\")\n",
    "    result_energy=Compare_energy(omm_energy[:,1:], gmx_energy[:,1:], isPrint=True)\n",
    "    result_forces=Compare_forces(omm_forces[:,1:], gmx_forces[:,1:], isPrint=True)\n",
    "\n",
    "    return result_energy and result_forces"
   ]
  },
  {
   "cell_type": "code",
   "execution_count": 36,
   "metadata": {},
   "outputs": [
    {
     "name": "stdout",
     "output_type": "stream",
     "text": [
      "./\n",
      "[[      0.         -631042.22491066]]\n",
      "[[      0.       -631040.821861]]\n",
      "########################################\n",
      "Energy Compare\n",
      "Absolute error: 1.40305\n",
      "Relative error: 0.00000\n",
      "Energies match!\n",
      "###Forces Compare###\n",
      "Max absolute error: 64.87774\n",
      "Max relative error: 0.61456\n",
      "      Max allclose: 64.86717\n",
      "Error: Forces do not match!\n"
     ]
    },
    {
     "data": {
      "text/plain": [
       "False"
      ]
     },
     "execution_count": 36,
     "metadata": {},
     "output_type": "execute_result"
    }
   ],
   "source": [
    "Compare_OMM_GMX('./', epsilon_r=15.0)"
   ]
  }
 ],
 "metadata": {
  "kernelspec": {
   "display_name": "ys",
   "language": "python",
   "name": "python3"
  },
  "language_info": {
   "codemirror_mode": {
    "name": "ipython",
    "version": 3
   },
   "file_extension": ".py",
   "mimetype": "text/x-python",
   "name": "python",
   "nbconvert_exporter": "python",
   "pygments_lexer": "ipython3",
   "version": "3.8.16"
  },
  "orig_nbformat": 4
 },
 "nbformat": 4,
 "nbformat_minor": 2
}
