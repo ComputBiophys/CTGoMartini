{
 "cells": [
  {
   "cell_type": "code",
   "execution_count": 1,
   "metadata": {},
   "outputs": [
    {
     "name": "stderr",
     "output_type": "stream",
     "text": [
      "Warning: importing 'simtk.openmm' is deprecated.  Import 'openmm' instead.\n"
     ]
    }
   ],
   "source": [
    "import os\n",
    "import ctgomartini as ct\n",
    "from ctgomartini.util import Extract_contacts_from_top, CombineMols, DifferentiateAngles, DifferentiateDihedrals, SameListList\n",
    "from ctgomartini.api import MartiniTopFile"
   ]
  },
  {
   "cell_type": "code",
   "execution_count": 2,
   "metadata": {},
   "outputs": [],
   "source": [
    "working_path = \"/home/ys/SongYang/MultipleBasin/Work/ContactOpt/GlnBP/MBContact8/repeat-open-test\"\n",
    "os.chdir(working_path)"
   ]
  },
  {
   "cell_type": "code",
   "execution_count": 3,
   "metadata": {},
   "outputs": [],
   "source": [
    "def GenMBPTop(mols_list, mbmol_name, dict_cutoffs={\n",
    "    'cutoff_BBB_angles':0.0,   \n",
    "    'cutoff_BBBB_dihedrals': 0.0,\n",
    "    'cutoff_SBBS_dihedrals':0.0,\n",
    "    'cutoff_contacts': 0.0,  \n",
    "}):\n",
    "    \"\"\"\n",
    "    mols_list: [[topfileA, mol_nameA], [topfileB, mol_nameB], ...]  \n",
    "    mbmol_name: string\n",
    "    \"\"\"\n",
    "    # -------------------------------------------\n",
    "    n_mols = len(mols_list)\n",
    "\n",
    "    # add contacts, bonds, constraints, angles, dihedrals, exclusions\n",
    "    # for the Go-Martini model, the categories including atoms, virtual_sitesn must be comprised in the topology.\n",
    "    mols_pairs = []\n",
    "    for (topfile, mol_name) in mols_list:\n",
    "        top = MartiniTopFile(topfile)\n",
    "        mol = top.moleculeTypes[mol_name]\n",
    "        if 'contacts' not in mol._topology:\n",
    "            contacts = Extract_contacts_from_top(top, mol_name)\n",
    "            if contacts != []:\n",
    "                mol._topology['contacts'] = contacts        \n",
    "        if 'bonds' not in mol._topology:\n",
    "            mol._toppology['bonds'] = []\n",
    "        if 'constraints' not in mol._topology:\n",
    "            mol._toppology['constraints'] = []\n",
    "        if 'angles' not in mol._topology:\n",
    "            mol._toppology['angles'] = []\n",
    "        if 'dihedrals' not in mol._topology:\n",
    "            mol._toppology['dihedrals'] = []\n",
    "        if 'exclusions' not in mol._topology:\n",
    "            mol._toppology['exclusions'] = []\n",
    "        mols_pairs.append([mol_name, mol])\n",
    "\n",
    "    # -------------------------------------------\n",
    "    class MBMolecule:\n",
    "        def __init__(self, mbmol_name) -> None:\n",
    "            self.mbmol_name = mbmol_name\n",
    "            self._topology = {}\n",
    "    \n",
    "    mbmol = MBMolecule(mbmol_name)\n",
    "    # add moleculetype\n",
    "    mbmol._topology['moleculetype'] = [[mbmol_name, '1']]\n",
    "    # add multiple_basin\n",
    "    energy_basin_list = [f'C{i+1}' for i in range(n_mols)]\n",
    "    mbmol._topology['multiple_basin'] = [['True', 'exp', str(n_mols), 'beta'] + energy_basin_list]\n",
    "    \n",
    "    # combine atoms, bonds, constraints, exclusions, contacts, BBB_angles, BBBB_dihedrals\n",
    "    # add mbatoms\n",
    "    mols_atoms_pairs = [[mol_name, mol._topology['atoms']] for (mol_name, mol) in mols_pairs]\n",
    "    mbatoms = CombineMols.combine_atoms(mbmol_name, mols_atoms_pairs)\n",
    "    mbmol._topology['atoms'] = mbatoms\n",
    "\n",
    "    # add mbbonds and mbconstraints\n",
    "    mols_bonds_list = [mol._topology['bonds'] for (_, mol) in mols_pairs]\n",
    "    mols_constraints_list = [mol._topology['constraints'] for (_, mol) in mols_pairs]\n",
    "    mbbonds, mbconstraints = CombineMols.combine_bonds_constraints(n_mols, mols_bonds_list, mols_constraints_list)\n",
    "    mbmol._topology['bonds'] = mbbonds\n",
    "    mbmol._topology['constraints'] = mbconstraints\n",
    "\n",
    "    # add mbangles, mbmulti_angles\n",
    "    mols_BBB_angles_list, mols_notBBB_angles_list = [], []\n",
    "    for _, mol in mols_pairs:\n",
    "        mol_BBB_angles, mol_notBBB_angles = DifferentiateAngles(mol._topology['angles'], mol._topology['atoms'])\n",
    "        mols_BBB_angles_list.append(mol_BBB_angles)\n",
    "        mols_notBBB_angles_list.append(mol_notBBB_angles)\n",
    "\n",
    "    mb_BBB_angles, mbmulti_BBB_angles = CombineMols.combine_angles(n_mols, mols_BBB_angles_list, dict_cutoffs['cutoff_BBB_angles'])\n",
    "    assert SameListList(mols_notBBB_angles_list, sort=True), f'Error: notBBB angles from different mols should be the same! {mols_notBBB_angles_list}'\n",
    "    mbangles = mb_BBB_angles + mols_notBBB_angles_list[0]\n",
    "    mbmol._topology['angles'] = mbangles\n",
    "    mbmol._topology['multi_angles'] = mbmulti_BBB_angles\n",
    "\n",
    "    # add mbdihedrals, mbmulti_dihedrals\n",
    "    mols_BBBB_dihedrals_list, mols_SSSS_dihedrals_list, mols_SBBS_dihedrals_list = [], [], []\n",
    "    for _, mol in mols_pairs:\n",
    "        mols_BBBB_dihedrals, mols_SSSS_dihedrals, mols_SBBS_dihedrals = DifferentiateDihedrals(mol._topology['dihedrals'], mol._topology['atoms'])\n",
    "        mols_BBBB_dihedrals_list.append(mols_BBBB_dihedrals)\n",
    "        mols_SSSS_dihedrals_list.append(mols_SSSS_dihedrals)\n",
    "        mols_SBBS_dihedrals_list.append(mols_SBBS_dihedrals)\n",
    "\n",
    "    # print(n_mols, len(mols_BBBB_dihedrals_list))\n",
    "    mb_BBBB_dihdedrals, mbmulti_BBBB_dihedrals = CombineMols.combine_dihedrals(n_mols, mols_BBBB_dihedrals_list, dict_cutoffs['cutoff_BBBB_dihedrals']) \n",
    "    assert SameListList(mols_SSSS_dihedrals_list, sort=True), f'Error: SSSS dihedrals from different mols should be the same! {mols_SSSS_dihedrals_list}'\n",
    "    assert SameListList(mols_SBBS_dihedrals_list, sort=True), f'Error: Dont support the scFix for multiple-basin Go-Martini. SBBS dihedrals from different mols should be the same! {mols_SBBS_dihedrals_list}'\n",
    "    mbdihedrals = mb_BBBB_dihdedrals + mols_SSSS_dihedrals_list[0] + mols_SBBS_dihedrals_list[0]\n",
    "    mbmulti_dihedrals = mbmulti_BBBB_dihedrals\n",
    "    mbmol._topology['dihedrals'] = mbdihedrals\n",
    "    mbmol._topology['multi_dihedrals'] = mbmulti_dihedrals    \n",
    "\n",
    "    # add mbcontacts, mbmulti_contacts\n",
    "    mols_contacts_list = [mol._topology['contacts'] for (_, mol) in mols_pairs]\n",
    "    mbcontacts, mbmulti_contacts = CombineMols.combine_contacts(n_mols, mols_contacts_list, dict_cutoffs['cutoff_contacts'])\n",
    "    mbmol._topology['contacts'] = mbcontacts\n",
    "    mbmol._topology['multi_contacts'] = mbmulti_contacts        \n",
    "\n",
    "    # add mbexclusions\n",
    "    mols_exclusions_list = [mol._topology['exclusions'] for (_, mol) in mols_pairs]\n",
    "    mbexclusions = CombineMols.combine_exclusions(mols_exclusions_list)\n",
    "    mbmol._topology['exclusions'] = mbexclusions\n",
    "\n",
    "    # other categories should be the same for different mols\n",
    "    categories_list = []\n",
    "    for (_, mol) in mols_pairs:\n",
    "        categories_list += list(mol._topology.keys())\n",
    "    categories_list= list(set(categories_list))\n",
    "    # print(categories_list)\n",
    "    for processed_category in ['moleculetype', 'atoms', 'bonds', 'constraints', 'angles', 'dihedrals', 'contacts', 'exclusions']:\n",
    "        categories_list.remove(processed_category)\n",
    "    for category in categories_list:\n",
    "        mols_category_list = [mol._topology[category] for (_, mol) in mols_pairs]\n",
    "        assert SameListList(mols_category_list, sort=True), f'Error: {category} from different mols should be the same! {mols_category_list}'\n",
    "        mbmol._topology[category] = mols_category_list[0]\n",
    "\n",
    "    mbcategories_list = list(mbmol._topology.keys())\n",
    "    for category in mbcategories_list:\n",
    "        if mbmol._topology[category] == []:\n",
    "            mbmol._topology.pop(category)\n",
    "\n",
    "    return mbmol\n"
   ]
  },
  {
   "cell_type": "code",
   "execution_count": null,
   "metadata": {},
   "outputs": [],
   "source": []
  },
  {
   "cell_type": "code",
   "execution_count": null,
   "metadata": {},
   "outputs": [],
   "source": []
  },
  {
   "cell_type": "code",
   "execution_count": 4,
   "metadata": {},
   "outputs": [],
   "source": [
    "topfileA = 'system_open.top'\n",
    "mol_nameA = 'gbp_open'\n",
    "topfileB = 'system_closed.top'\n",
    "mol_nameB = 'gbp_closed'\n",
    "\n",
    "mbmol_name = 'gbp'\n",
    "mols_list = [\n",
    "    [topfileA, mol_nameA],\n",
    "    [topfileB, mol_nameB]\n",
    "]\n",
    "mbmol =  GenMBPTop(mols_list, mbmol_name)"
   ]
  },
  {
   "cell_type": "code",
   "execution_count": 5,
   "metadata": {},
   "outputs": [
    {
     "name": "stdout",
     "output_type": "stream",
     "text": [
      "dict_keys(['moleculetype', 'multiple_basin', 'atoms', 'bonds', 'constraints', 'angles', 'multi_angles', 'dihedrals', 'multi_dihedrals', 'multi_contacts', 'exclusions', 'virtual_sitesn'])\n"
     ]
    }
   ],
   "source": [
    "print(mbmol._topology.keys())\n",
    "mbmol._topology['constraints'] = []"
   ]
  },
  {
   "cell_type": "code",
   "execution_count": 6,
   "metadata": {},
   "outputs": [
    {
     "name": "stdout",
     "output_type": "stream",
     "text": [
      "constraints\n"
     ]
    }
   ],
   "source": [
    "mbcategories_list = list(mbmol._topology.keys())\n",
    "for category in mbcategories_list:\n",
    "    if mbmol._topology[category] == []:\n",
    "        print(category)\n",
    "        mbmol._topology.pop(category)"
   ]
  },
  {
   "cell_type": "code",
   "execution_count": 7,
   "metadata": {},
   "outputs": [
    {
     "data": {
      "text/plain": [
       "dict_keys(['moleculetype', 'multiple_basin', 'atoms', 'bonds', 'angles', 'multi_angles', 'dihedrals', 'multi_dihedrals', 'multi_contacts', 'exclusions', 'virtual_sitesn'])"
      ]
     },
     "execution_count": 7,
     "metadata": {},
     "output_type": "execute_result"
    }
   ],
   "source": [
    "mbmol._topology.keys()"
   ]
  }
 ],
 "metadata": {
  "kernelspec": {
   "display_name": "ys",
   "language": "python",
   "name": "python3"
  },
  "language_info": {
   "codemirror_mode": {
    "name": "ipython",
    "version": 3
   },
   "file_extension": ".py",
   "mimetype": "text/x-python",
   "name": "python",
   "nbconvert_exporter": "python",
   "pygments_lexer": "ipython3",
   "version": "3.8.16"
  }
 },
 "nbformat": 4,
 "nbformat_minor": 2
}
