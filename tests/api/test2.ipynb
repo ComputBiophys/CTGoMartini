{
 "cells": [
  {
   "cell_type": "code",
   "execution_count": 7,
   "metadata": {},
   "outputs": [],
   "source": [
    "from ctgomartini.api import MartiniTopology\n",
    "from function import *\n",
    "\n",
    "\n",
    "def MBP_exp_energy_combine(energy1, energy2, beta, C1, C2):\n",
    "    part1=np.exp(-beta*(energy1+C1))\n",
    "    part2=np.exp(-beta*(energy2+C2))\n",
    "\n",
    "    part=part1+part2\n",
    "    energy=-np.log(part)/beta\n",
    "    return energy\n",
    "\n",
    "def MBP_exp_forces_combine(forces1, forces2, energy1, energy2, beta, C1, C2):\n",
    "    part1=np.exp(-beta*(energy1+C1))\n",
    "    part2=np.exp(-beta*(energy2+C2))\n",
    "\n",
    "    part=part1+part2\n",
    "    forces=part1/part*forces1+part2/part*forces2\n",
    "    return forces\n",
    "\n",
    "def MBP_ham_energy_combine(energy1, energy2, delta, C1, C2):\n",
    "    dV=C2-C1\n",
    "    part1=(energy1+energy2+dV)/2\n",
    "    part2=(energy1-energy2-dV)/2\n",
    "\n",
    "    energy=part1-np.sqrt(part2**2+delta**2)\n",
    "    return energy\n",
    "\n",
    "def MBP_ham_forces_combine(forces1, forces2, energy1, energy2, delta, C1, C2):\n",
    "    dV=C2-C1\n",
    "    alpha=(energy1-energy2-dV)/2\n",
    "    C=1/2*(1-alpha/np.sqrt(alpha**2+delta**2))\n",
    "\n",
    "    forces=C*forces1+(1-C)*forces2\n",
    "    return forces\n",
    "\n",
    "def CalculateEnergyForces(working_dir, strfile='ions.gro', epsilon_r=15):\n",
    "    os.chdir(working_dir)\n",
    "    strfile = strfile\n",
    "    topfile = \"system.top\"\n",
    "\n",
    "    simulation = OMM_setSimulation(strfile, topfile, epsilon_r=epsilon_r, temperature=310.15, double_precision=True)\n",
    "    OMM_calStrfile(strfile, simulation, set_vsite=True)\n",
    "\n",
    "    omm_energy=Load_energy(clean=True)\n",
    "    omm_forces=Load_forces(clean=True)    \n",
    "    return omm_energy, omm_forces\n",
    "\n",
    "    \n",
    "def GetMBPParameter(working_dir, topfile='system.top'):\n",
    "    \"\"\"\n",
    "    get MBP Parameters\n",
    "    \"\"\"\n",
    "    os.chdir(working_dir)\n",
    "    top = MartiniTopology(topfile)\n",
    "    MBP_paramters = []\n",
    "    for molecule_name, molecule_type in top.moleculeTypes.items():\n",
    "        if 'multiple_basin' in molecule_type._topology:\n",
    "            MBP_paramters.append(molecule_type._topology['multiple_basin'][0])\n",
    "    return MBP_paramters\n",
    "    \n"
   ]
  },
  {
   "cell_type": "code",
   "execution_count": 8,
   "metadata": {},
   "outputs": [],
   "source": [
    "base_dir=\"/home/ys/CommonUse/Martini/CTGoMartini/tests/data/MultipleBasinGoMartini/GlnBP\""
   ]
  },
  {
   "cell_type": "code",
   "execution_count": 9,
   "metadata": {},
   "outputs": [
    {
     "name": "stdout",
     "output_type": "stream",
     "text": [
      "beta 0.001\n",
      "-1/beta * log(exp(-beta * (energy1 + C1)) + exp(-beta * (energy2 + C2)));\n",
      "energy1 = state1_force1 + state1_force2 + state1_force3;\n",
      "energy2 = state2_force1 + state2_force2 + state2_force3;\n",
      "(energy1+energy2+deltaV)/2 - sqrt(((energy1-energy2-deltaV)/2)^2+delta^2);deltaV=mbp_energy2-mbp_energy1;;\n",
      "energy1 = state1_force1 + state1_force2 + state1_force3;\n",
      "energy2 = state2_force1 + state2_force2 + state2_force3;\n"
     ]
    }
   ],
   "source": [
    "strfile = 'ions_closed.gro'\n",
    "\n",
    "working_dir = os.path.join(base_dir, 'StateA')\n",
    "energy_stateA, forces_stateA = CalculateEnergyForces(working_dir, strfile, epsilon_r=15)\n",
    "\n",
    "working_dir = os.path.join(base_dir, 'StateB')\n",
    "energy_stateB, forces_stateB = CalculateEnergyForces(working_dir, strfile, epsilon_r=15)\n",
    "\n",
    "working_dir = os.path.join(base_dir, 'EXP')\n",
    "energy_exp, forces_exp = CalculateEnergyForces(working_dir, strfile, epsilon_r=15)\n",
    "exp_param = GetMBPParameter(working_dir, topfile='system.top')[0]\n",
    "\n",
    "working_dir = os.path.join(base_dir, 'HAM')\n",
    "energy_ham, forces_ham = CalculateEnergyForces(working_dir, strfile, epsilon_r=15)\n",
    "ham_param = GetMBPParameter(working_dir, topfile='system.top')[0]\n",
    "\n"
   ]
  },
  {
   "cell_type": "code",
   "execution_count": 10,
   "metadata": {},
   "outputs": [
    {
     "data": {
      "text/plain": [
       "'/home/ys/CommonUse/Martini/CTGoMartini/tests/data/MultipleBasinGoMartini/GlnBP/HAM'"
      ]
     },
     "execution_count": 10,
     "metadata": {},
     "output_type": "execute_result"
    }
   ],
   "source": [
    "os.getcwd()"
   ]
  },
  {
   "cell_type": "code",
   "execution_count": 11,
   "metadata": {},
   "outputs": [
    {
     "name": "stdout",
     "output_type": "stream",
     "text": [
      "Exponential mixing scheme for multiple baisn popential\n",
      "Parameters:  ['True', 'exp', '2', '1/1000', '-50', '0']\n",
      "Energy Compare\n",
      "Absolute error: 0.00000\n",
      "Relative error: 0.00000\n",
      "Energies match!\n",
      "###Forces Compare###\n",
      "Max absolute error: 0.00000\n",
      "Max relative error: 0.00000\n",
      "      Max allclose: -0.00001\n",
      "Forces match!\n"
     ]
    }
   ],
   "source": [
    "# Compare energy\n",
    "print(\"Exponential mixing scheme for multiple baisn popential\")\n",
    "print(\"Parameters: \",exp_param)\n",
    "energy_exp_cal = MBP_exp_energy_combine(energy_stateA[:,1], energy_stateB[:,1], beta=eval(exp_param[3]), C1=eval(exp_param[4]), C2=eval(exp_param[5]))\n",
    "forces_exp_cal = MBP_exp_forces_combine(forces_stateA[:,1:], forces_stateB[:,1:], energy_stateA[:,1], energy_stateB[:,1], beta=1/1000, C1=-50, C2=0)\n",
    "\n",
    "result_energy=Compare_energy(energy_exp_cal, energy_exp[:,1:], isPrint=True)\n",
    "result_forces=Compare_forces(forces_exp_cal, forces_exp[:,1:], isPrint=True)"
   ]
  },
  {
   "cell_type": "code",
   "execution_count": 12,
   "metadata": {},
   "outputs": [
    {
     "name": "stdout",
     "output_type": "stream",
     "text": [
      "Hamiltonian mixing scheme for multiple baisn popential\n",
      "Parameters:  ['True', 'ham', '2', '10', '-50', '0']\n",
      "Energy Compare\n",
      "Absolute error: 0.00000\n",
      "Relative error: 0.00000\n",
      "Energies match!\n",
      "###Forces Compare###\n",
      "Max absolute error: 0.00000\n",
      "Max relative error: 0.00000\n",
      "      Max allclose: -0.00001\n",
      "Forces match!\n"
     ]
    }
   ],
   "source": [
    "# Compare energy\n",
    "print(\"Hamiltonian mixing scheme for multiple baisn popential\")\n",
    "print(\"Parameters: \",ham_param)\n",
    "energy_ham_cal = MBP_ham_energy_combine(energy_stateA[:,1], energy_stateB[:,1], delta=eval(ham_param[3]), C1=eval(ham_param[4]), C2=eval(ham_param[5]))\n",
    "forces_ham_cal = MBP_ham_forces_combine(forces_stateA[:,1:], forces_stateB[:,1:], energy_stateA[:,1], energy_stateB[:,1], delta=10, C1=-50, C2=0)\n",
    "\n",
    "result_energy=Compare_energy(energy_ham_cal, energy_ham[:,1:], isPrint=True)\n",
    "result_forces=Compare_forces(forces_ham_cal, forces_ham[:,1:], isPrint=True)"
   ]
  }
 ],
 "metadata": {
  "kernelspec": {
   "display_name": "ys",
   "language": "python",
   "name": "python3"
  },
  "language_info": {
   "codemirror_mode": {
    "name": "ipython",
    "version": 3
   },
   "file_extension": ".py",
   "mimetype": "text/x-python",
   "name": "python",
   "nbconvert_exporter": "python",
   "pygments_lexer": "ipython3",
   "version": "3.8.16"
  }
 },
 "nbformat": 4,
 "nbformat_minor": 2
}
