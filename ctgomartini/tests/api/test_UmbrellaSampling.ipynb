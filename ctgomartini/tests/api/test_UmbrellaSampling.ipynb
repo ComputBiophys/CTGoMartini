{
 "cells": [
  {
   "cell_type": "code",
   "execution_count": 4,
   "metadata": {},
   "outputs": [],
   "source": [
    "from ctgomartini.api import MartiniTopFile\n",
    "from function import *\n",
    "\n",
    "def Compare_OMM_GMX(working_dir, epsilon_r=15.0):\n",
    "    print(working_dir)\n",
    "    os.chdir(os.path.join(working_dir, \"openmm\"))\n",
    "    strfile = \"md.gro\"\n",
    "    topfile = \"system.top\"\n",
    "\n",
    "    simulation = OMM_setSimulation(strfile, topfile, epsilon_r=epsilon_r, temperature=310.15, double_precision=True)\n",
    "    OMM_calStrfile(strfile, simulation, set_vsite=True)\n",
    "\n",
    "    omm_energy=Load_energy(clean=True)\n",
    "    omm_forces=Load_forces(clean=True)\n",
    "    print(omm_energy)\n",
    "    # gmx\n",
    "    os.chdir(os.path.join(working_dir, \"gmx\"))\n",
    "\n",
    "    # GMX_set(CreateMDP=False, double_precision=True)\n",
    "    # GMX_run()\n",
    "\n",
    "    gmx_energy=Load_energy(clean=False)\n",
    "    gmx_forces=Load_forces(clean=False)\n",
    "    print(gmx_energy)\n",
    "    # Compare\n",
    "    print(\"########################################\")\n",
    "    result_energy=Compare_energy(omm_energy[:,1:], gmx_energy[:,1:], isPrint=True)\n",
    "    result_forces=Compare_forces(omm_forces[:,1:], gmx_forces[:,1:], isPrint=True)\n",
    "    if not (result_energy and result_forces):\n",
    "        raise AssertionError(\"Energies or forces do not match.\")\n",
    "    \n",
    "\n",
    "    \n"
   ]
  },
  {
   "cell_type": "code",
   "execution_count": 5,
   "metadata": {},
   "outputs": [],
   "source": [
    "\n",
    "class TestUmbrellaSampling:\n",
    "    \"\"\"\n",
    "    Test UmbrellaSampling\n",
    "    \"\"\"\n",
    "    path = os.getcwd()\n",
    "\n",
    "    def test_GlnBP(self):\n",
    "        working_dir = os.path.join(self.path, \"../data/UmbrellaSampling/GlnBP/\")\n",
    "        Compare_OMM_GMX(working_dir, epsilon_r = 15)  "
   ]
  },
  {
   "cell_type": "code",
   "execution_count": 6,
   "metadata": {},
   "outputs": [
    {
     "name": "stdout",
     "output_type": "stream",
     "text": [
      "/home/ys/CommonUse/Martini/test/CTGoMartini/tests/api/../data/UmbrellaSampling/GlnBP/\n",
      "[[      0.         -238820.42090518]]\n",
      "[[      0.       -238820.420921]]\n",
      "########################################\n",
      "Energy Compare\n",
      "Absolute error: 0.00002\n",
      "Relative error: 0.00000\n",
      "Energies match!\n",
      "###Forces Compare###\n",
      "Max absolute error: 0.00132\n",
      "Max relative error: 0.00001\n",
      "      Max allclose: -0.00001\n",
      "Forces match!\n"
     ]
    },
    {
     "name": "stderr",
     "output_type": "stream",
     "text": [
      "/home/ys/CommonUse/Martini/test/CTGoMartini/tests/api/function.py:325: RuntimeWarning: invalid value encountered in divide\n",
      "  relative_force_error = np.linalg.norm(forces1 - forces2, axis=1) / average\n"
     ]
    }
   ],
   "source": [
    "test = TestUmbrellaSampling()\n",
    "test.test_GlnBP()"
   ]
  }
 ],
 "metadata": {
  "kernelspec": {
   "display_name": "ys",
   "language": "python",
   "name": "python3"
  },
  "language_info": {
   "codemirror_mode": {
    "name": "ipython",
    "version": 3
   },
   "file_extension": ".py",
   "mimetype": "text/x-python",
   "name": "python",
   "nbconvert_exporter": "python",
   "pygments_lexer": "ipython3",
   "version": "3.8.19"
  },
  "orig_nbformat": 4
 },
 "nbformat": 4,
 "nbformat_minor": 2
}
