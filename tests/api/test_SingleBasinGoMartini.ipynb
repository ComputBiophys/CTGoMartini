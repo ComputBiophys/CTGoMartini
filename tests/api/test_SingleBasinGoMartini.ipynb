{
 "cells": [
  {
   "cell_type": "code",
   "execution_count": null,
   "metadata": {},
   "outputs": [],
   "source": [
    "from function import *\n",
    "from ctgomartini.api import GenSBPTop, MartiniTopFile\n",
    "from ctgomartini.func import WriteItp\n",
    "\n",
    "\n",
    "def CompareResults(working_dir, epsilon_r = 15):\n",
    "    os.chdir(os.path.join(working_dir, \"openmm\"))\n",
    "    strfile = \"minimized.gro\"\n",
    "    topfile = \"system.top\"\n",
    "\n",
    "    simulation = OMM_setSimulation(strfile, topfile, epsilon_r=epsilon_r, temperature=310.15, double_precision=True)\n",
    "    OMM_calStrfile(strfile, simulation, set_vsite=True)\n",
    "\n",
    "    omm_energy=Load_energy(clean=True)\n",
    "    omm_forces=Load_forces(clean=True)\n",
    "        \n",
    "    # gmx\n",
    "    os.chdir(os.path.join(working_dir, \"gmx\"))\n",
    "\n",
    "    # Use the results from the last run\n",
    "    # GMX_set(CreateMDP=False, double_precision=True)\n",
    "    # GMX_run()\n",
    "\n",
    "    gmx_energy=Load_energy(clean=False)\n",
    "    gmx_forces=Load_forces(clean=False)   \n",
    "\n",
    "    # Compare\n",
    "    print(\"########################################\")\n",
    "    result_energy=Compare_energy(omm_energy[:,1:], gmx_energy[:,1:], isPrint=True)\n",
    "    result_forces=Compare_forces(omm_forces[:,1:], gmx_forces[:,1:], isPrint=True)\n",
    "    if not (result_energy and result_forces):\n",
    "        raise AssertionError(\"Energies or forces do not match.\")\n",
    "    \n",
    "\n",
    "class TestMartiniTopology:\n",
    "    \"\"\"\n",
    "    Test that the MartiniTopology class is instantiated\n",
    "    \"\"\"\n",
    "    # path = os.path.dirname(__file__)\n",
    "    path = os.getcwd()\n",
    "\n",
    "    def test_GlnBP_go_m3(self):\n",
    "        working_dir = os.path.join(self.path, \"../data/SingleBasinGoMartini/GlnBP_go_m3\")\n",
    "\n",
    "        # GenSBPTop\n",
    "        os.chdir(os.path.join(working_dir, \"openmm\"))\n",
    "        try:\n",
    "            os.remove(\"gbp.top\", \"gbp_params.top\")\n",
    "        except:\n",
    "            pass\n",
    "        mols_list =[\n",
    "            ['system_gen.top', 'gbp_open']\n",
    "        ]\n",
    "        sbmol_name = \"gbp\"\n",
    "        sbmol =  GenSBPTop(mols_list, sbmol_name)\n",
    "        WriteItp(sbmol)\n",
    "        os.chdir(working_dir)\n",
    "\n",
    "        CompareResults(working_dir, epsilon_r = 15)  "
   ]
  },
  {
   "cell_type": "code",
   "execution_count": null,
   "metadata": {},
   "outputs": [],
   "source": [
    "test = TestMartiniTopology()"
   ]
  },
  {
   "cell_type": "code",
   "execution_count": null,
   "metadata": {},
   "outputs": [],
   "source": [
    "test.test_GlnBP_go_m3()"
   ]
  }
 ],
 "metadata": {
  "kernelspec": {
   "display_name": "Python 3",
   "language": "python",
   "name": "python3"
  },
  "language_info": {
   "codemirror_mode": {
    "name": "ipython",
    "version": 3
   },
   "file_extension": ".py",
   "mimetype": "text/x-python",
   "name": "python",
   "nbconvert_exporter": "python",
   "pygments_lexer": "ipython3",
   "version": "3.8.19"
  }
 },
 "nbformat": 4,
 "nbformat_minor": 2
}
